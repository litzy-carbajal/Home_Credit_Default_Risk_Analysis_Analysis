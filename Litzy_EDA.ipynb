{
 "cells": [
  {
   "cell_type": "markdown",
   "id": "fbb240f0",
   "metadata": {},
   "source": [
    "# Maverik Time Series Forecasting Analysis- EDA"
   ]
  },
  {
   "cell_type": "markdown",
   "id": "562e357e",
   "metadata": {},
   "source": [
    "<a class=\"anchor\" id=\"TableofContents\"></a>\n",
    "## Table of Contents\n",
    "* [1. Introduction - Business Statement](#1.IntroductionBusinessStatement)  \n",
    "* [2. Exploratory Data Analysis](#2.ExploratoryDataAnalysis)\n",
    "* [3. Merging both dataframes](#3.Mergingbothdataframes)\n",
    "* [4. Feature Engineering](#4.FeatureEngineering)\n"
   ]
  },
  {
   "cell_type": "markdown",
   "id": "lAQTh6jMDjg8",
   "metadata": {
    "id": "lAQTh6jMDjg8"
   },
   "source": [
    "<a class=\"anchor\" id=\"1.IntroductionBusinessStatement\"></a>\n",
    "# 1. Introduction - Business Statement"
   ]
  },
  {
   "cell_type": "markdown",
   "id": "9ca4b4f9",
   "metadata": {},
   "source": [
    "Maverik is currently facing a significant challenge in preparing comprehensive ROI documents for their new store openings. This challenge stems from the difficulty of accurately predicting first-year sales, which in turn hinders the company's strategic financial planning and decision-making processes, ultimately affecting their sustainable growth. To address this issue, the primary analytical goal is to develop a predictive model capable of providing precise daily forecasts for merchandise sales, food sales, unleaded fuel sales, and diesel fuel sales for new Maverik stores during their first year of operation.\n"
   ]
  },
  {
   "cell_type": "markdown",
   "id": "o-_CqTGcDjg9",
   "metadata": {
    "id": "o-_CqTGcDjg9"
   },
   "source": [
    "<a class=\"anchor\" id=\"2.ExploratoryDataAnalysis\"></a>\n",
    "# 2. Exploratory Data Analysis"
   ]
  },
  {
   "cell_type": "markdown",
   "id": "iQuFoIN7Djg9",
   "metadata": {
    "id": "iQuFoIN7Djg9"
   },
   "source": [
    "In this section, we provide an overview of the Exploratory Data Analysis carried out as an integral part of the project. Following that, we delve into the Modeling phase, where we assess different models to identify the most suitable one for our future predictions.\n",
    "This section also encompasses strategies for data preparation, which involves managing variable transformations, conducting feature engineering, and addressing missing values in the dataset."
   ]
  },
  {
   "cell_type": "markdown",
   "id": "axK0NbA8Djg9",
   "metadata": {
    "id": "axK0NbA8Djg9"
   },
   "source": [
    "<a class=\"anchor\" id=\"2.1.ImportingPackages\"></a>\n",
    "## 2.1. Importing Packages"
   ]
  },
  {
   "cell_type": "code",
   "execution_count": 1,
   "id": "e320c921",
   "metadata": {},
   "outputs": [],
   "source": [
    "#pip install xgboost"
   ]
  },
  {
   "cell_type": "code",
   "execution_count": 40,
   "id": "b7OzZ9n8Djg9",
   "metadata": {
    "id": "b7OzZ9n8Djg9"
   },
   "outputs": [],
   "source": [
    "import numpy as np\n",
    "import pandas as pd\n",
    "import seaborn as sns\n",
    "import warnings\n",
    "warnings.filterwarnings(\"ignore\")\n",
    "import matplotlib.pyplot as plt\n",
    "from pandas.plotting import table\n",
    "import plotly.express as px\n",
    "import matplotlib.ticker as mtick"
   ]
  },
  {
   "cell_type": "code",
   "execution_count": 41,
   "id": "SX2LTVdkDjg-",
   "metadata": {
    "id": "SX2LTVdkDjg-"
   },
   "outputs": [],
   "source": [
    "import plotly.io as pio\n",
    "pio.renderers.default = 'notebook_connected'"
   ]
  },
  {
   "cell_type": "code",
   "execution_count": 42,
   "id": "6a83060a",
   "metadata": {},
   "outputs": [],
   "source": [
    "import xgboost as xgb\n",
    "from sklearn.metrics import mean_squared_error\n",
    "from sklearn.model_selection import TimeSeriesSplit\n",
    "from sklearn.metrics import mean_absolute_error, mean_squared_error, r2_score"
   ]
  },
  {
   "cell_type": "markdown",
   "id": "dZM5F7E2Djg_",
   "metadata": {
    "id": "dZM5F7E2Djg_"
   },
   "source": [
    "## 2.2. Reading Data"
   ]
  },
  {
   "cell_type": "code",
   "execution_count": 43,
   "id": "g9KdnTQjDjg_",
   "metadata": {
    "id": "g9KdnTQjDjg_"
   },
   "outputs": [],
   "source": [
    "q_data= pd.read_csv(\"qualitative_data_msba.csv\")\n",
    "t_data=pd.read_csv(\"time_series_data_msba.csv\")"
   ]
  },
  {
   "cell_type": "markdown",
   "id": "ilmzNk5_Djg_",
   "metadata": {
    "id": "ilmzNk5_Djg_"
   },
   "source": [
    "## 2.3. Summarizing & Understading the Data"
   ]
  },
  {
   "cell_type": "code",
   "execution_count": 44,
   "id": "rYWlwH2rDjg_",
   "metadata": {
    "colab": {
     "base_uri": "https://localhost:8080/",
     "height": 273
    },
    "id": "rYWlwH2rDjg_",
    "outputId": "f92dbd54-39de-448c-8ea5-7555ce03230e"
   },
   "outputs": [
    {
     "data": {
      "text/html": [
       "<div>\n",
       "<style scoped>\n",
       "    .dataframe tbody tr th:only-of-type {\n",
       "        vertical-align: middle;\n",
       "    }\n",
       "\n",
       "    .dataframe tbody tr th {\n",
       "        vertical-align: top;\n",
       "    }\n",
       "\n",
       "    .dataframe thead th {\n",
       "        text-align: right;\n",
       "    }\n",
       "</style>\n",
       "<table border=\"1\" class=\"dataframe\">\n",
       "  <thead>\n",
       "    <tr style=\"text-align: right;\">\n",
       "      <th></th>\n",
       "      <th>Unnamed: 0</th>\n",
       "      <th>open_year</th>\n",
       "      <th>square_feet</th>\n",
       "      <th>front_door_count</th>\n",
       "      <th>years_since_last_project</th>\n",
       "      <th>parking_spaces</th>\n",
       "      <th>lottery</th>\n",
       "      <th>freal</th>\n",
       "      <th>bonfire_grill</th>\n",
       "      <th>pizza</th>\n",
       "      <th>...</th>\n",
       "      <th>rv_lanes_fueling_positions_2</th>\n",
       "      <th>hi_flow_rv_lanes_layout</th>\n",
       "      <th>hi_flow_rv_lanes_stack_type</th>\n",
       "      <th>non_24_hour</th>\n",
       "      <th>self_check_out</th>\n",
       "      <th>mens_toilet_count</th>\n",
       "      <th>mens_urinal_count</th>\n",
       "      <th>womens_toilet_count</th>\n",
       "      <th>womens_sink_count</th>\n",
       "      <th>site_id_msba</th>\n",
       "    </tr>\n",
       "  </thead>\n",
       "  <tbody>\n",
       "    <tr>\n",
       "      <th>0</th>\n",
       "      <td>1</td>\n",
       "      <td>2021</td>\n",
       "      <td>5046</td>\n",
       "      <td>2</td>\n",
       "      <td>2</td>\n",
       "      <td>38</td>\n",
       "      <td>Yes</td>\n",
       "      <td>Yes</td>\n",
       "      <td>Yes</td>\n",
       "      <td>No</td>\n",
       "      <td>...</td>\n",
       "      <td>6</td>\n",
       "      <td>Stack</td>\n",
       "      <td>HF/RV</td>\n",
       "      <td>No</td>\n",
       "      <td>Yes</td>\n",
       "      <td>2</td>\n",
       "      <td>2</td>\n",
       "      <td>6</td>\n",
       "      <td>2</td>\n",
       "      <td>21560</td>\n",
       "    </tr>\n",
       "    <tr>\n",
       "      <th>1</th>\n",
       "      <td>2</td>\n",
       "      <td>2021</td>\n",
       "      <td>5046</td>\n",
       "      <td>2</td>\n",
       "      <td>2</td>\n",
       "      <td>39</td>\n",
       "      <td>No</td>\n",
       "      <td>Yes</td>\n",
       "      <td>Yes</td>\n",
       "      <td>Yes</td>\n",
       "      <td>...</td>\n",
       "      <td>4</td>\n",
       "      <td>Combo</td>\n",
       "      <td>HF/RV</td>\n",
       "      <td>No</td>\n",
       "      <td>Yes</td>\n",
       "      <td>5</td>\n",
       "      <td>5</td>\n",
       "      <td>10</td>\n",
       "      <td>4</td>\n",
       "      <td>21980</td>\n",
       "    </tr>\n",
       "    <tr>\n",
       "      <th>2</th>\n",
       "      <td>3</td>\n",
       "      <td>2021</td>\n",
       "      <td>5046</td>\n",
       "      <td>2</td>\n",
       "      <td>2</td>\n",
       "      <td>35</td>\n",
       "      <td>Yes</td>\n",
       "      <td>Yes</td>\n",
       "      <td>Yes</td>\n",
       "      <td>Yes</td>\n",
       "      <td>...</td>\n",
       "      <td>5</td>\n",
       "      <td>In-Line</td>\n",
       "      <td>None</td>\n",
       "      <td>No</td>\n",
       "      <td>Yes</td>\n",
       "      <td>3</td>\n",
       "      <td>2</td>\n",
       "      <td>4</td>\n",
       "      <td>1</td>\n",
       "      <td>22015</td>\n",
       "    </tr>\n",
       "    <tr>\n",
       "      <th>3</th>\n",
       "      <td>4</td>\n",
       "      <td>2021</td>\n",
       "      <td>5046</td>\n",
       "      <td>2</td>\n",
       "      <td>2</td>\n",
       "      <td>36</td>\n",
       "      <td>No</td>\n",
       "      <td>Yes</td>\n",
       "      <td>Yes</td>\n",
       "      <td>Yes</td>\n",
       "      <td>...</td>\n",
       "      <td>4</td>\n",
       "      <td>Combo</td>\n",
       "      <td>HF/RV</td>\n",
       "      <td>No</td>\n",
       "      <td>Yes</td>\n",
       "      <td>3</td>\n",
       "      <td>3</td>\n",
       "      <td>6</td>\n",
       "      <td>2</td>\n",
       "      <td>22085</td>\n",
       "    </tr>\n",
       "    <tr>\n",
       "      <th>4</th>\n",
       "      <td>5</td>\n",
       "      <td>2021</td>\n",
       "      <td>5046</td>\n",
       "      <td>2</td>\n",
       "      <td>2</td>\n",
       "      <td>25</td>\n",
       "      <td>Yes</td>\n",
       "      <td>Yes</td>\n",
       "      <td>Yes</td>\n",
       "      <td>No</td>\n",
       "      <td>...</td>\n",
       "      <td>0</td>\n",
       "      <td>NaN</td>\n",
       "      <td>NaN</td>\n",
       "      <td>No</td>\n",
       "      <td>Yes</td>\n",
       "      <td>0</td>\n",
       "      <td>0</td>\n",
       "      <td>0</td>\n",
       "      <td>0</td>\n",
       "      <td>22120</td>\n",
       "    </tr>\n",
       "  </tbody>\n",
       "</table>\n",
       "<p>5 rows × 55 columns</p>\n",
       "</div>"
      ],
      "text/plain": [
       "   Unnamed: 0  open_year  square_feet  front_door_count  \\\n",
       "0           1       2021         5046                 2   \n",
       "1           2       2021         5046                 2   \n",
       "2           3       2021         5046                 2   \n",
       "3           4       2021         5046                 2   \n",
       "4           5       2021         5046                 2   \n",
       "\n",
       "   years_since_last_project  parking_spaces lottery freal bonfire_grill pizza  \\\n",
       "0                         2              38     Yes   Yes           Yes    No   \n",
       "1                         2              39      No   Yes           Yes   Yes   \n",
       "2                         2              35     Yes   Yes           Yes   Yes   \n",
       "3                         2              36      No   Yes           Yes   Yes   \n",
       "4                         2              25     Yes   Yes           Yes    No   \n",
       "\n",
       "   ... rv_lanes_fueling_positions_2 hi_flow_rv_lanes_layout  \\\n",
       "0  ...                            6                   Stack   \n",
       "1  ...                            4                   Combo   \n",
       "2  ...                            5                 In-Line   \n",
       "3  ...                            4                   Combo   \n",
       "4  ...                            0                     NaN   \n",
       "\n",
       "  hi_flow_rv_lanes_stack_type non_24_hour self_check_out mens_toilet_count  \\\n",
       "0                       HF/RV          No            Yes                 2   \n",
       "1                       HF/RV          No            Yes                 5   \n",
       "2                        None          No            Yes                 3   \n",
       "3                       HF/RV          No            Yes                 3   \n",
       "4                         NaN          No            Yes                 0   \n",
       "\n",
       "  mens_urinal_count womens_toilet_count womens_sink_count site_id_msba  \n",
       "0                 2                   6                 2        21560  \n",
       "1                 5                  10                 4        21980  \n",
       "2                 2                   4                 1        22015  \n",
       "3                 3                   6                 2        22085  \n",
       "4                 0                   0                 0        22120  \n",
       "\n",
       "[5 rows x 55 columns]"
      ]
     },
     "execution_count": 44,
     "metadata": {},
     "output_type": "execute_result"
    }
   ],
   "source": [
    "q_data.head()"
   ]
  },
  {
   "cell_type": "code",
   "execution_count": 45,
   "id": "cFieUdPZDjhA",
   "metadata": {
    "colab": {
     "base_uri": "https://localhost:8080/",
     "height": 244
    },
    "id": "cFieUdPZDjhA",
    "outputId": "61eb4628-6b16-4354-a0f3-21a41b67bc05"
   },
   "outputs": [
    {
     "data": {
      "text/html": [
       "<div>\n",
       "<style scoped>\n",
       "    .dataframe tbody tr th:only-of-type {\n",
       "        vertical-align: middle;\n",
       "    }\n",
       "\n",
       "    .dataframe tbody tr th {\n",
       "        vertical-align: top;\n",
       "    }\n",
       "\n",
       "    .dataframe thead th {\n",
       "        text-align: right;\n",
       "    }\n",
       "</style>\n",
       "<table border=\"1\" class=\"dataframe\">\n",
       "  <thead>\n",
       "    <tr style=\"text-align: right;\">\n",
       "      <th></th>\n",
       "      <th>Unnamed: 0</th>\n",
       "      <th>capital_projects.soft_opening_date</th>\n",
       "      <th>calendar.calendar_day_date</th>\n",
       "      <th>calendar.fiscal_week_id_for_year</th>\n",
       "      <th>calendar.day_of_week</th>\n",
       "      <th>calendar_information.holiday</th>\n",
       "      <th>calendar_information.type_of_day</th>\n",
       "      <th>daily_yoy_ndt.total_inside_sales</th>\n",
       "      <th>daily_yoy_ndt.total_food_service</th>\n",
       "      <th>diesel</th>\n",
       "      <th>unleaded</th>\n",
       "      <th>site_id_msba</th>\n",
       "    </tr>\n",
       "  </thead>\n",
       "  <tbody>\n",
       "    <tr>\n",
       "      <th>0</th>\n",
       "      <td>1</td>\n",
       "      <td>2022-06-14</td>\n",
       "      <td>2022-06-17</td>\n",
       "      <td>25</td>\n",
       "      <td>Friday</td>\n",
       "      <td>NONE</td>\n",
       "      <td>WEEKDAY</td>\n",
       "      <td>2168.2920</td>\n",
       "      <td>861.6930</td>\n",
       "      <td>722.7745</td>\n",
       "      <td>1425.1020</td>\n",
       "      <td>24535</td>\n",
       "    </tr>\n",
       "    <tr>\n",
       "      <th>1</th>\n",
       "      <td>2</td>\n",
       "      <td>2022-06-14</td>\n",
       "      <td>2022-06-22</td>\n",
       "      <td>25</td>\n",
       "      <td>Wednesday</td>\n",
       "      <td>NONE</td>\n",
       "      <td>WEEKDAY</td>\n",
       "      <td>2051.5635</td>\n",
       "      <td>808.0275</td>\n",
       "      <td>730.4850</td>\n",
       "      <td>1436.2740</td>\n",
       "      <td>24535</td>\n",
       "    </tr>\n",
       "    <tr>\n",
       "      <th>2</th>\n",
       "      <td>3</td>\n",
       "      <td>2022-06-14</td>\n",
       "      <td>2022-06-23</td>\n",
       "      <td>25</td>\n",
       "      <td>Thursday</td>\n",
       "      <td>NONE</td>\n",
       "      <td>WEEKDAY</td>\n",
       "      <td>2257.5000</td>\n",
       "      <td>966.4410</td>\n",
       "      <td>895.7970</td>\n",
       "      <td>1594.3725</td>\n",
       "      <td>24535</td>\n",
       "    </tr>\n",
       "    <tr>\n",
       "      <th>3</th>\n",
       "      <td>4</td>\n",
       "      <td>2022-06-14</td>\n",
       "      <td>2022-06-26</td>\n",
       "      <td>26</td>\n",
       "      <td>Sunday</td>\n",
       "      <td>NONE</td>\n",
       "      <td>WEEKEND</td>\n",
       "      <td>1520.5925</td>\n",
       "      <td>542.3250</td>\n",
       "      <td>584.2900</td>\n",
       "      <td>1124.9280</td>\n",
       "      <td>24535</td>\n",
       "    </tr>\n",
       "    <tr>\n",
       "      <th>4</th>\n",
       "      <td>5</td>\n",
       "      <td>2022-06-14</td>\n",
       "      <td>2022-06-27</td>\n",
       "      <td>26</td>\n",
       "      <td>Monday</td>\n",
       "      <td>NONE</td>\n",
       "      <td>WEEKDAY</td>\n",
       "      <td>1897.6930</td>\n",
       "      <td>771.4525</td>\n",
       "      <td>852.2605</td>\n",
       "      <td>1640.2540</td>\n",
       "      <td>24535</td>\n",
       "    </tr>\n",
       "  </tbody>\n",
       "</table>\n",
       "</div>"
      ],
      "text/plain": [
       "   Unnamed: 0 capital_projects.soft_opening_date calendar.calendar_day_date  \\\n",
       "0           1                         2022-06-14                 2022-06-17   \n",
       "1           2                         2022-06-14                 2022-06-22   \n",
       "2           3                         2022-06-14                 2022-06-23   \n",
       "3           4                         2022-06-14                 2022-06-26   \n",
       "4           5                         2022-06-14                 2022-06-27   \n",
       "\n",
       "   calendar.fiscal_week_id_for_year calendar.day_of_week  \\\n",
       "0                                25               Friday   \n",
       "1                                25            Wednesday   \n",
       "2                                25             Thursday   \n",
       "3                                26               Sunday   \n",
       "4                                26               Monday   \n",
       "\n",
       "  calendar_information.holiday calendar_information.type_of_day  \\\n",
       "0                         NONE                          WEEKDAY   \n",
       "1                         NONE                          WEEKDAY   \n",
       "2                         NONE                          WEEKDAY   \n",
       "3                         NONE                          WEEKEND   \n",
       "4                         NONE                          WEEKDAY   \n",
       "\n",
       "   daily_yoy_ndt.total_inside_sales  daily_yoy_ndt.total_food_service  \\\n",
       "0                         2168.2920                          861.6930   \n",
       "1                         2051.5635                          808.0275   \n",
       "2                         2257.5000                          966.4410   \n",
       "3                         1520.5925                          542.3250   \n",
       "4                         1897.6930                          771.4525   \n",
       "\n",
       "     diesel   unleaded  site_id_msba  \n",
       "0  722.7745  1425.1020         24535  \n",
       "1  730.4850  1436.2740         24535  \n",
       "2  895.7970  1594.3725         24535  \n",
       "3  584.2900  1124.9280         24535  \n",
       "4  852.2605  1640.2540         24535  "
      ]
     },
     "execution_count": 45,
     "metadata": {},
     "output_type": "execute_result"
    }
   ],
   "source": [
    "t_data.head()"
   ]
  },
  {
   "cell_type": "markdown",
   "id": "zBdBq4Q5DjhA",
   "metadata": {
    "id": "zBdBq4Q5DjhA"
   },
   "source": [
    "<a class=\"anchor\" id=\"2.1.ImportingPackages\"></a>\n",
    "## 2.4 Removing 1st column from both the dataframes named 'Unnamed: 0'"
   ]
  },
  {
   "cell_type": "code",
   "execution_count": 46,
   "id": "LfpGOUnHDjhA",
   "metadata": {
    "id": "LfpGOUnHDjhA"
   },
   "outputs": [],
   "source": [
    "q_data= q_data.drop(\"Unnamed: 0\", axis=1)\n",
    "t_data= t_data.drop(\"Unnamed: 0\", axis=1)"
   ]
  },
  {
   "cell_type": "code",
   "execution_count": 47,
   "id": "v44eKkbTDjhA",
   "metadata": {
    "colab": {
     "base_uri": "https://localhost:8080/",
     "height": 256
    },
    "id": "v44eKkbTDjhA",
    "outputId": "6315989b-efa0-44fa-82fb-6dbcea43488e"
   },
   "outputs": [
    {
     "data": {
      "text/html": [
       "<div>\n",
       "<style scoped>\n",
       "    .dataframe tbody tr th:only-of-type {\n",
       "        vertical-align: middle;\n",
       "    }\n",
       "\n",
       "    .dataframe tbody tr th {\n",
       "        vertical-align: top;\n",
       "    }\n",
       "\n",
       "    .dataframe thead th {\n",
       "        text-align: right;\n",
       "    }\n",
       "</style>\n",
       "<table border=\"1\" class=\"dataframe\">\n",
       "  <thead>\n",
       "    <tr style=\"text-align: right;\">\n",
       "      <th></th>\n",
       "      <th>open_year</th>\n",
       "      <th>square_feet</th>\n",
       "      <th>front_door_count</th>\n",
       "      <th>years_since_last_project</th>\n",
       "      <th>parking_spaces</th>\n",
       "      <th>lottery</th>\n",
       "      <th>freal</th>\n",
       "      <th>bonfire_grill</th>\n",
       "      <th>pizza</th>\n",
       "      <th>cinnabon</th>\n",
       "      <th>...</th>\n",
       "      <th>rv_lanes_fueling_positions_2</th>\n",
       "      <th>hi_flow_rv_lanes_layout</th>\n",
       "      <th>hi_flow_rv_lanes_stack_type</th>\n",
       "      <th>non_24_hour</th>\n",
       "      <th>self_check_out</th>\n",
       "      <th>mens_toilet_count</th>\n",
       "      <th>mens_urinal_count</th>\n",
       "      <th>womens_toilet_count</th>\n",
       "      <th>womens_sink_count</th>\n",
       "      <th>site_id_msba</th>\n",
       "    </tr>\n",
       "  </thead>\n",
       "  <tbody>\n",
       "    <tr>\n",
       "      <th>0</th>\n",
       "      <td>2021</td>\n",
       "      <td>5046</td>\n",
       "      <td>2</td>\n",
       "      <td>2</td>\n",
       "      <td>38</td>\n",
       "      <td>Yes</td>\n",
       "      <td>Yes</td>\n",
       "      <td>Yes</td>\n",
       "      <td>No</td>\n",
       "      <td>No</td>\n",
       "      <td>...</td>\n",
       "      <td>6</td>\n",
       "      <td>Stack</td>\n",
       "      <td>HF/RV</td>\n",
       "      <td>No</td>\n",
       "      <td>Yes</td>\n",
       "      <td>2</td>\n",
       "      <td>2</td>\n",
       "      <td>6</td>\n",
       "      <td>2</td>\n",
       "      <td>21560</td>\n",
       "    </tr>\n",
       "    <tr>\n",
       "      <th>1</th>\n",
       "      <td>2021</td>\n",
       "      <td>5046</td>\n",
       "      <td>2</td>\n",
       "      <td>2</td>\n",
       "      <td>39</td>\n",
       "      <td>No</td>\n",
       "      <td>Yes</td>\n",
       "      <td>Yes</td>\n",
       "      <td>Yes</td>\n",
       "      <td>No</td>\n",
       "      <td>...</td>\n",
       "      <td>4</td>\n",
       "      <td>Combo</td>\n",
       "      <td>HF/RV</td>\n",
       "      <td>No</td>\n",
       "      <td>Yes</td>\n",
       "      <td>5</td>\n",
       "      <td>5</td>\n",
       "      <td>10</td>\n",
       "      <td>4</td>\n",
       "      <td>21980</td>\n",
       "    </tr>\n",
       "    <tr>\n",
       "      <th>2</th>\n",
       "      <td>2021</td>\n",
       "      <td>5046</td>\n",
       "      <td>2</td>\n",
       "      <td>2</td>\n",
       "      <td>35</td>\n",
       "      <td>Yes</td>\n",
       "      <td>Yes</td>\n",
       "      <td>Yes</td>\n",
       "      <td>Yes</td>\n",
       "      <td>No</td>\n",
       "      <td>...</td>\n",
       "      <td>5</td>\n",
       "      <td>In-Line</td>\n",
       "      <td>None</td>\n",
       "      <td>No</td>\n",
       "      <td>Yes</td>\n",
       "      <td>3</td>\n",
       "      <td>2</td>\n",
       "      <td>4</td>\n",
       "      <td>1</td>\n",
       "      <td>22015</td>\n",
       "    </tr>\n",
       "    <tr>\n",
       "      <th>3</th>\n",
       "      <td>2021</td>\n",
       "      <td>5046</td>\n",
       "      <td>2</td>\n",
       "      <td>2</td>\n",
       "      <td>36</td>\n",
       "      <td>No</td>\n",
       "      <td>Yes</td>\n",
       "      <td>Yes</td>\n",
       "      <td>Yes</td>\n",
       "      <td>No</td>\n",
       "      <td>...</td>\n",
       "      <td>4</td>\n",
       "      <td>Combo</td>\n",
       "      <td>HF/RV</td>\n",
       "      <td>No</td>\n",
       "      <td>Yes</td>\n",
       "      <td>3</td>\n",
       "      <td>3</td>\n",
       "      <td>6</td>\n",
       "      <td>2</td>\n",
       "      <td>22085</td>\n",
       "    </tr>\n",
       "    <tr>\n",
       "      <th>4</th>\n",
       "      <td>2021</td>\n",
       "      <td>5046</td>\n",
       "      <td>2</td>\n",
       "      <td>2</td>\n",
       "      <td>25</td>\n",
       "      <td>Yes</td>\n",
       "      <td>Yes</td>\n",
       "      <td>Yes</td>\n",
       "      <td>No</td>\n",
       "      <td>No</td>\n",
       "      <td>...</td>\n",
       "      <td>0</td>\n",
       "      <td>NaN</td>\n",
       "      <td>NaN</td>\n",
       "      <td>No</td>\n",
       "      <td>Yes</td>\n",
       "      <td>0</td>\n",
       "      <td>0</td>\n",
       "      <td>0</td>\n",
       "      <td>0</td>\n",
       "      <td>22120</td>\n",
       "    </tr>\n",
       "  </tbody>\n",
       "</table>\n",
       "<p>5 rows × 54 columns</p>\n",
       "</div>"
      ],
      "text/plain": [
       "   open_year  square_feet  front_door_count  years_since_last_project  \\\n",
       "0       2021         5046                 2                         2   \n",
       "1       2021         5046                 2                         2   \n",
       "2       2021         5046                 2                         2   \n",
       "3       2021         5046                 2                         2   \n",
       "4       2021         5046                 2                         2   \n",
       "\n",
       "   parking_spaces lottery freal bonfire_grill pizza cinnabon  ...  \\\n",
       "0              38     Yes   Yes           Yes    No       No  ...   \n",
       "1              39      No   Yes           Yes   Yes       No  ...   \n",
       "2              35     Yes   Yes           Yes   Yes       No  ...   \n",
       "3              36      No   Yes           Yes   Yes       No  ...   \n",
       "4              25     Yes   Yes           Yes    No       No  ...   \n",
       "\n",
       "  rv_lanes_fueling_positions_2 hi_flow_rv_lanes_layout  \\\n",
       "0                            6                   Stack   \n",
       "1                            4                   Combo   \n",
       "2                            5                 In-Line   \n",
       "3                            4                   Combo   \n",
       "4                            0                     NaN   \n",
       "\n",
       "  hi_flow_rv_lanes_stack_type non_24_hour self_check_out mens_toilet_count  \\\n",
       "0                       HF/RV          No            Yes                 2   \n",
       "1                       HF/RV          No            Yes                 5   \n",
       "2                        None          No            Yes                 3   \n",
       "3                       HF/RV          No            Yes                 3   \n",
       "4                         NaN          No            Yes                 0   \n",
       "\n",
       "  mens_urinal_count womens_toilet_count womens_sink_count site_id_msba  \n",
       "0                 2                   6                 2        21560  \n",
       "1                 5                  10                 4        21980  \n",
       "2                 2                   4                 1        22015  \n",
       "3                 3                   6                 2        22085  \n",
       "4                 0                   0                 0        22120  \n",
       "\n",
       "[5 rows x 54 columns]"
      ]
     },
     "execution_count": 47,
     "metadata": {},
     "output_type": "execute_result"
    }
   ],
   "source": [
    "q_data.head()"
   ]
  },
  {
   "cell_type": "code",
   "execution_count": 48,
   "id": "i7CdnjvkDjhA",
   "metadata": {
    "colab": {
     "base_uri": "https://localhost:8080/",
     "height": 226
    },
    "id": "i7CdnjvkDjhA",
    "outputId": "9bd1b9c1-328f-4c14-dfe8-6ea1ba0d2761"
   },
   "outputs": [
    {
     "data": {
      "text/html": [
       "<div>\n",
       "<style scoped>\n",
       "    .dataframe tbody tr th:only-of-type {\n",
       "        vertical-align: middle;\n",
       "    }\n",
       "\n",
       "    .dataframe tbody tr th {\n",
       "        vertical-align: top;\n",
       "    }\n",
       "\n",
       "    .dataframe thead th {\n",
       "        text-align: right;\n",
       "    }\n",
       "</style>\n",
       "<table border=\"1\" class=\"dataframe\">\n",
       "  <thead>\n",
       "    <tr style=\"text-align: right;\">\n",
       "      <th></th>\n",
       "      <th>capital_projects.soft_opening_date</th>\n",
       "      <th>calendar.calendar_day_date</th>\n",
       "      <th>calendar.fiscal_week_id_for_year</th>\n",
       "      <th>calendar.day_of_week</th>\n",
       "      <th>calendar_information.holiday</th>\n",
       "      <th>calendar_information.type_of_day</th>\n",
       "      <th>daily_yoy_ndt.total_inside_sales</th>\n",
       "      <th>daily_yoy_ndt.total_food_service</th>\n",
       "      <th>diesel</th>\n",
       "      <th>unleaded</th>\n",
       "      <th>site_id_msba</th>\n",
       "    </tr>\n",
       "  </thead>\n",
       "  <tbody>\n",
       "    <tr>\n",
       "      <th>0</th>\n",
       "      <td>2022-06-14</td>\n",
       "      <td>2022-06-17</td>\n",
       "      <td>25</td>\n",
       "      <td>Friday</td>\n",
       "      <td>NONE</td>\n",
       "      <td>WEEKDAY</td>\n",
       "      <td>2168.2920</td>\n",
       "      <td>861.6930</td>\n",
       "      <td>722.7745</td>\n",
       "      <td>1425.1020</td>\n",
       "      <td>24535</td>\n",
       "    </tr>\n",
       "    <tr>\n",
       "      <th>1</th>\n",
       "      <td>2022-06-14</td>\n",
       "      <td>2022-06-22</td>\n",
       "      <td>25</td>\n",
       "      <td>Wednesday</td>\n",
       "      <td>NONE</td>\n",
       "      <td>WEEKDAY</td>\n",
       "      <td>2051.5635</td>\n",
       "      <td>808.0275</td>\n",
       "      <td>730.4850</td>\n",
       "      <td>1436.2740</td>\n",
       "      <td>24535</td>\n",
       "    </tr>\n",
       "    <tr>\n",
       "      <th>2</th>\n",
       "      <td>2022-06-14</td>\n",
       "      <td>2022-06-23</td>\n",
       "      <td>25</td>\n",
       "      <td>Thursday</td>\n",
       "      <td>NONE</td>\n",
       "      <td>WEEKDAY</td>\n",
       "      <td>2257.5000</td>\n",
       "      <td>966.4410</td>\n",
       "      <td>895.7970</td>\n",
       "      <td>1594.3725</td>\n",
       "      <td>24535</td>\n",
       "    </tr>\n",
       "    <tr>\n",
       "      <th>3</th>\n",
       "      <td>2022-06-14</td>\n",
       "      <td>2022-06-26</td>\n",
       "      <td>26</td>\n",
       "      <td>Sunday</td>\n",
       "      <td>NONE</td>\n",
       "      <td>WEEKEND</td>\n",
       "      <td>1520.5925</td>\n",
       "      <td>542.3250</td>\n",
       "      <td>584.2900</td>\n",
       "      <td>1124.9280</td>\n",
       "      <td>24535</td>\n",
       "    </tr>\n",
       "    <tr>\n",
       "      <th>4</th>\n",
       "      <td>2022-06-14</td>\n",
       "      <td>2022-06-27</td>\n",
       "      <td>26</td>\n",
       "      <td>Monday</td>\n",
       "      <td>NONE</td>\n",
       "      <td>WEEKDAY</td>\n",
       "      <td>1897.6930</td>\n",
       "      <td>771.4525</td>\n",
       "      <td>852.2605</td>\n",
       "      <td>1640.2540</td>\n",
       "      <td>24535</td>\n",
       "    </tr>\n",
       "  </tbody>\n",
       "</table>\n",
       "</div>"
      ],
      "text/plain": [
       "  capital_projects.soft_opening_date calendar.calendar_day_date  \\\n",
       "0                         2022-06-14                 2022-06-17   \n",
       "1                         2022-06-14                 2022-06-22   \n",
       "2                         2022-06-14                 2022-06-23   \n",
       "3                         2022-06-14                 2022-06-26   \n",
       "4                         2022-06-14                 2022-06-27   \n",
       "\n",
       "   calendar.fiscal_week_id_for_year calendar.day_of_week  \\\n",
       "0                                25               Friday   \n",
       "1                                25            Wednesday   \n",
       "2                                25             Thursday   \n",
       "3                                26               Sunday   \n",
       "4                                26               Monday   \n",
       "\n",
       "  calendar_information.holiday calendar_information.type_of_day  \\\n",
       "0                         NONE                          WEEKDAY   \n",
       "1                         NONE                          WEEKDAY   \n",
       "2                         NONE                          WEEKDAY   \n",
       "3                         NONE                          WEEKEND   \n",
       "4                         NONE                          WEEKDAY   \n",
       "\n",
       "   daily_yoy_ndt.total_inside_sales  daily_yoy_ndt.total_food_service  \\\n",
       "0                         2168.2920                          861.6930   \n",
       "1                         2051.5635                          808.0275   \n",
       "2                         2257.5000                          966.4410   \n",
       "3                         1520.5925                          542.3250   \n",
       "4                         1897.6930                          771.4525   \n",
       "\n",
       "     diesel   unleaded  site_id_msba  \n",
       "0  722.7745  1425.1020         24535  \n",
       "1  730.4850  1436.2740         24535  \n",
       "2  895.7970  1594.3725         24535  \n",
       "3  584.2900  1124.9280         24535  \n",
       "4  852.2605  1640.2540         24535  "
      ]
     },
     "execution_count": 48,
     "metadata": {},
     "output_type": "execute_result"
    }
   ],
   "source": [
    "t_data.head()"
   ]
  },
  {
   "cell_type": "markdown",
   "id": "CipB3-5pDjhA",
   "metadata": {
    "id": "CipB3-5pDjhA"
   },
   "source": [
    "<a class=\"anchor\" id=\"2.1.ImportingPackages\"></a>\n",
    "## 2.5 Checking the shape of both the dataframes"
   ]
  },
  {
   "cell_type": "code",
   "execution_count": 49,
   "id": "vRACtFY_DjhA",
   "metadata": {
    "colab": {
     "base_uri": "https://localhost:8080/"
    },
    "id": "vRACtFY_DjhA",
    "outputId": "08b428c4-461d-48bf-f4ce-8ffba7490542"
   },
   "outputs": [
    {
     "data": {
      "text/plain": [
       "(37, 54)"
      ]
     },
     "execution_count": 49,
     "metadata": {},
     "output_type": "execute_result"
    }
   ],
   "source": [
    "q_data.shape"
   ]
  },
  {
   "cell_type": "code",
   "execution_count": 50,
   "id": "cQZQA2-EDjhA",
   "metadata": {
    "colab": {
     "base_uri": "https://localhost:8080/"
    },
    "id": "cQZQA2-EDjhA",
    "outputId": "1b07fce0-a03e-4537-f08e-acd6861b7153"
   },
   "outputs": [
    {
     "data": {
      "text/plain": [
       "(13908, 11)"
      ]
     },
     "execution_count": 50,
     "metadata": {},
     "output_type": "execute_result"
    }
   ],
   "source": [
    "t_data.shape"
   ]
  },
  {
   "cell_type": "markdown",
   "id": "HDVZE79sDjhA",
   "metadata": {
    "id": "HDVZE79sDjhA"
   },
   "source": [
    "<a class=\"anchor\" id=\"2.1.ImportingPackages\"></a>\n",
    "## 2.6 Obtaining description of the data in the datafame"
   ]
  },
  {
   "cell_type": "code",
   "execution_count": 51,
   "id": "57Nf5l8KDjhA",
   "metadata": {
    "colab": {
     "base_uri": "https://localhost:8080/",
     "height": 300
    },
    "id": "57Nf5l8KDjhA",
    "outputId": "627c2551-d465-40d8-e0c0-6a52c1104aa5"
   },
   "outputs": [
    {
     "data": {
      "text/html": [
       "<div>\n",
       "<style scoped>\n",
       "    .dataframe tbody tr th:only-of-type {\n",
       "        vertical-align: middle;\n",
       "    }\n",
       "\n",
       "    .dataframe tbody tr th {\n",
       "        vertical-align: top;\n",
       "    }\n",
       "\n",
       "    .dataframe thead th {\n",
       "        text-align: right;\n",
       "    }\n",
       "</style>\n",
       "<table border=\"1\" class=\"dataframe\">\n",
       "  <thead>\n",
       "    <tr style=\"text-align: right;\">\n",
       "      <th></th>\n",
       "      <th>square_feet</th>\n",
       "      <th>x1_mile_pop</th>\n",
       "      <th>x1_mile_emp</th>\n",
       "      <th>x1_mile_income</th>\n",
       "      <th>x1_2_mile_pop</th>\n",
       "      <th>x1_2_mile_emp</th>\n",
       "    </tr>\n",
       "  </thead>\n",
       "  <tbody>\n",
       "    <tr>\n",
       "      <th>count</th>\n",
       "      <td>37.00000</td>\n",
       "      <td>37.000000</td>\n",
       "      <td>37.000000</td>\n",
       "      <td>37.000000</td>\n",
       "      <td>37.000000</td>\n",
       "      <td>37.000000</td>\n",
       "    </tr>\n",
       "    <tr>\n",
       "      <th>mean</th>\n",
       "      <td>4970.27027</td>\n",
       "      <td>6703.567568</td>\n",
       "      <td>4757.648649</td>\n",
       "      <td>53300.378378</td>\n",
       "      <td>1833.108108</td>\n",
       "      <td>1514.135135</td>\n",
       "    </tr>\n",
       "    <tr>\n",
       "      <th>std</th>\n",
       "      <td>575.93121</td>\n",
       "      <td>5694.011350</td>\n",
       "      <td>4697.168291</td>\n",
       "      <td>24333.027254</td>\n",
       "      <td>1915.140476</td>\n",
       "      <td>2489.423094</td>\n",
       "    </tr>\n",
       "    <tr>\n",
       "      <th>min</th>\n",
       "      <td>2933.00000</td>\n",
       "      <td>0.000000</td>\n",
       "      <td>56.000000</td>\n",
       "      <td>0.000000</td>\n",
       "      <td>0.000000</td>\n",
       "      <td>31.000000</td>\n",
       "    </tr>\n",
       "    <tr>\n",
       "      <th>25%</th>\n",
       "      <td>5046.00000</td>\n",
       "      <td>1984.000000</td>\n",
       "      <td>1771.000000</td>\n",
       "      <td>39538.000000</td>\n",
       "      <td>262.000000</td>\n",
       "      <td>386.000000</td>\n",
       "    </tr>\n",
       "    <tr>\n",
       "      <th>50%</th>\n",
       "      <td>5046.00000</td>\n",
       "      <td>5574.000000</td>\n",
       "      <td>3895.000000</td>\n",
       "      <td>46356.000000</td>\n",
       "      <td>1003.000000</td>\n",
       "      <td>1037.000000</td>\n",
       "    </tr>\n",
       "    <tr>\n",
       "      <th>75%</th>\n",
       "      <td>5046.00000</td>\n",
       "      <td>11269.000000</td>\n",
       "      <td>6002.000000</td>\n",
       "      <td>73519.000000</td>\n",
       "      <td>2686.000000</td>\n",
       "      <td>1616.000000</td>\n",
       "    </tr>\n",
       "    <tr>\n",
       "      <th>max</th>\n",
       "      <td>6134.00000</td>\n",
       "      <td>18692.000000</td>\n",
       "      <td>26077.000000</td>\n",
       "      <td>110957.000000</td>\n",
       "      <td>5923.000000</td>\n",
       "      <td>15403.000000</td>\n",
       "    </tr>\n",
       "  </tbody>\n",
       "</table>\n",
       "</div>"
      ],
      "text/plain": [
       "       square_feet   x1_mile_pop   x1_mile_emp  x1_mile_income  x1_2_mile_pop  \\\n",
       "count     37.00000     37.000000     37.000000       37.000000      37.000000   \n",
       "mean    4970.27027   6703.567568   4757.648649    53300.378378    1833.108108   \n",
       "std      575.93121   5694.011350   4697.168291    24333.027254    1915.140476   \n",
       "min     2933.00000      0.000000     56.000000        0.000000       0.000000   \n",
       "25%     5046.00000   1984.000000   1771.000000    39538.000000     262.000000   \n",
       "50%     5046.00000   5574.000000   3895.000000    46356.000000    1003.000000   \n",
       "75%     5046.00000  11269.000000   6002.000000    73519.000000    2686.000000   \n",
       "max     6134.00000  18692.000000  26077.000000   110957.000000    5923.000000   \n",
       "\n",
       "       x1_2_mile_emp  \n",
       "count      37.000000  \n",
       "mean     1514.135135  \n",
       "std      2489.423094  \n",
       "min        31.000000  \n",
       "25%       386.000000  \n",
       "50%      1037.000000  \n",
       "75%      1616.000000  \n",
       "max     15403.000000  "
      ]
     },
     "execution_count": 51,
     "metadata": {},
     "output_type": "execute_result"
    }
   ],
   "source": [
    "q_data[['square_feet','x1_mile_pop','x1_mile_emp','x1_mile_income','x1_2_mile_pop','x1_2_mile_emp']].describe()"
   ]
  },
  {
   "cell_type": "code",
   "execution_count": 52,
   "id": "n58pSv93DjhA",
   "metadata": {
    "colab": {
     "base_uri": "https://localhost:8080/",
     "height": 300
    },
    "id": "n58pSv93DjhA",
    "outputId": "08625502-d496-404d-fa06-ad42cb0b8a0f"
   },
   "outputs": [
    {
     "data": {
      "text/html": [
       "<div>\n",
       "<style scoped>\n",
       "    .dataframe tbody tr th:only-of-type {\n",
       "        vertical-align: middle;\n",
       "    }\n",
       "\n",
       "    .dataframe tbody tr th {\n",
       "        vertical-align: top;\n",
       "    }\n",
       "\n",
       "    .dataframe thead th {\n",
       "        text-align: right;\n",
       "    }\n",
       "</style>\n",
       "<table border=\"1\" class=\"dataframe\">\n",
       "  <thead>\n",
       "    <tr style=\"text-align: right;\">\n",
       "      <th></th>\n",
       "      <th>daily_yoy_ndt.total_inside_sales</th>\n",
       "      <th>daily_yoy_ndt.total_food_service</th>\n",
       "      <th>diesel</th>\n",
       "      <th>unleaded</th>\n",
       "    </tr>\n",
       "  </thead>\n",
       "  <tbody>\n",
       "    <tr>\n",
       "      <th>count</th>\n",
       "      <td>13908.000000</td>\n",
       "      <td>13908.000000</td>\n",
       "      <td>13908.000000</td>\n",
       "      <td>13908.000000</td>\n",
       "    </tr>\n",
       "    <tr>\n",
       "      <th>mean</th>\n",
       "      <td>2846.537988</td>\n",
       "      <td>759.922326</td>\n",
       "      <td>1702.585227</td>\n",
       "      <td>2382.091588</td>\n",
       "    </tr>\n",
       "    <tr>\n",
       "      <th>std</th>\n",
       "      <td>981.299870</td>\n",
       "      <td>341.578220</td>\n",
       "      <td>2161.208192</td>\n",
       "      <td>1025.518658</td>\n",
       "    </tr>\n",
       "    <tr>\n",
       "      <th>min</th>\n",
       "      <td>0.000000</td>\n",
       "      <td>0.000000</td>\n",
       "      <td>0.000000</td>\n",
       "      <td>240.180500</td>\n",
       "    </tr>\n",
       "    <tr>\n",
       "      <th>25%</th>\n",
       "      <td>2181.156250</td>\n",
       "      <td>521.087875</td>\n",
       "      <td>383.062750</td>\n",
       "      <td>1654.149000</td>\n",
       "    </tr>\n",
       "    <tr>\n",
       "      <th>50%</th>\n",
       "      <td>2693.976250</td>\n",
       "      <td>697.434500</td>\n",
       "      <td>1018.920000</td>\n",
       "      <td>2256.677500</td>\n",
       "    </tr>\n",
       "    <tr>\n",
       "      <th>75%</th>\n",
       "      <td>3325.306250</td>\n",
       "      <td>924.282625</td>\n",
       "      <td>2283.297625</td>\n",
       "      <td>2928.254000</td>\n",
       "    </tr>\n",
       "    <tr>\n",
       "      <th>max</th>\n",
       "      <td>7172.466000</td>\n",
       "      <td>2531.662000</td>\n",
       "      <td>20853.952000</td>\n",
       "      <td>8077.233500</td>\n",
       "    </tr>\n",
       "  </tbody>\n",
       "</table>\n",
       "</div>"
      ],
      "text/plain": [
       "       daily_yoy_ndt.total_inside_sales  daily_yoy_ndt.total_food_service  \\\n",
       "count                      13908.000000                      13908.000000   \n",
       "mean                        2846.537988                        759.922326   \n",
       "std                          981.299870                        341.578220   \n",
       "min                            0.000000                          0.000000   \n",
       "25%                         2181.156250                        521.087875   \n",
       "50%                         2693.976250                        697.434500   \n",
       "75%                         3325.306250                        924.282625   \n",
       "max                         7172.466000                       2531.662000   \n",
       "\n",
       "             diesel      unleaded  \n",
       "count  13908.000000  13908.000000  \n",
       "mean    1702.585227   2382.091588  \n",
       "std     2161.208192   1025.518658  \n",
       "min        0.000000    240.180500  \n",
       "25%      383.062750   1654.149000  \n",
       "50%     1018.920000   2256.677500  \n",
       "75%     2283.297625   2928.254000  \n",
       "max    20853.952000   8077.233500  "
      ]
     },
     "execution_count": 52,
     "metadata": {},
     "output_type": "execute_result"
    }
   ],
   "source": [
    "t_data[['daily_yoy_ndt.total_inside_sales', 'daily_yoy_ndt.total_food_service', 'diesel', 'unleaded']].describe()\n"
   ]
  },
  {
   "cell_type": "markdown",
   "id": "6e2647eb",
   "metadata": {},
   "source": [
    "<a class=\"anchor\" id=\"2.1.ImportingPackages\"></a>\n",
    "## 2.7. Identified Zero Variance Variables\n",
    "The following columns exhibit consistent values throughout and do not demonstrate significant correlation with the target variables. Therefore, they can be considered as zero variance variables and may be removed from the dataset:\n",
    " 1. front_door_count\n",
    " 2. godfather_s_pizza\n",
    " 3. diesel\n",
    " 4. car_wash\n",
    " 5. ev_charging\n",
    " 6. non_24_hour\n",
    " 7. self_check_out"
   ]
  },
  {
   "cell_type": "code",
   "execution_count": 53,
   "id": "EcmaLC9uDjhA",
   "metadata": {
    "id": "EcmaLC9uDjhA",
    "scrolled": true
   },
   "outputs": [],
   "source": [
    "q_data.drop(['front_door_count','godfather_s_pizza','car_wash','ev_charging','non_24_hour','self_check_out','diesel'], axis=1,inplace=True)"
   ]
  },
  {
   "cell_type": "markdown",
   "id": "uvx1nLgtDjhA",
   "metadata": {
    "id": "uvx1nLgtDjhA"
   },
   "source": [
    "<a class=\"anchor\" id=\"2.1.ImportingPackages\"></a>\n",
    "## 2.8 Checking the shape of q_data after columns drop"
   ]
  },
  {
   "cell_type": "code",
   "execution_count": 54,
   "id": "g2qn8xJKDjhA",
   "metadata": {
    "colab": {
     "base_uri": "https://localhost:8080/"
    },
    "id": "g2qn8xJKDjhA",
    "outputId": "76908a61-d77e-48b7-8780-7b308d31ac94"
   },
   "outputs": [
    {
     "data": {
      "text/plain": [
       "(37, 47)"
      ]
     },
     "execution_count": 54,
     "metadata": {},
     "output_type": "execute_result"
    }
   ],
   "source": [
    "q_data.shape"
   ]
  },
  {
   "cell_type": "markdown",
   "id": "GmV66G5dDjhB",
   "metadata": {
    "id": "GmV66G5dDjhB"
   },
   "source": [
    "<a class=\"anchor\" id=\"2.1.ImportingPackages\"></a>\n",
    "## 2.9. Finding NA and Categorical Values  in Qualitative Dataframe (q_data)"
   ]
  },
  {
   "cell_type": "code",
   "execution_count": 55,
   "id": "B0dLfmWLDjhB",
   "metadata": {
    "colab": {
     "base_uri": "https://localhost:8080/"
    },
    "id": "B0dLfmWLDjhB",
    "outputId": "de7a9b6a-745f-450e-d045-7b2fc80e06a9"
   },
   "outputs": [
    {
     "data": {
      "text/plain": [
       "rv_lanes_layout                14\n",
       "rv_lanes_stack_type            14\n",
       "hi_flow_lanes_layout           15\n",
       "hi_flow_lanes_stack_type       15\n",
       "hi_flow_rv_lanes_layout        14\n",
       "hi_flow_rv_lanes_stack_type    14\n",
       "dtype: int64"
      ]
     },
     "execution_count": 55,
     "metadata": {},
     "output_type": "execute_result"
    }
   ],
   "source": [
    "na_values = q_data.isna().sum()\n",
    "na_values[na_values > 0]"
   ]
  },
  {
   "cell_type": "markdown",
   "id": "Jxdsg7V8DjhB",
   "metadata": {
    "id": "Jxdsg7V8DjhB"
   },
   "source": [
    "As per the above result, 6 columns of qualitative dataframe has N/A value. It means that Maverik does not provide these features in few of it stores."
   ]
  },
  {
   "cell_type": "code",
   "execution_count": 56,
   "id": "t8vgDL90DjhB",
   "metadata": {
    "colab": {
     "base_uri": "https://localhost:8080/"
    },
    "id": "t8vgDL90DjhB",
    "outputId": "4f33fd16-f3e7-443b-856f-528116fd0d5a"
   },
   "outputs": [
    {
     "data": {
      "text/plain": [
       "['lottery',\n",
       " 'freal',\n",
       " 'bonfire_grill',\n",
       " 'pizza',\n",
       " 'cinnabon',\n",
       " 'ethanol_free',\n",
       " 'hi_flow_lanes',\n",
       " 'rv_lanes',\n",
       " 'hi_flow_rv_lanes',\n",
       " 'def',\n",
       " 'cat_scales',\n",
       " 'rv_dumps',\n",
       " 'propane',\n",
       " 'traditional_forecourt_layout',\n",
       " 'traditional_forecourt_stack_type',\n",
       " 'rv_lanes_layout',\n",
       " 'rv_lanes_stack_type',\n",
       " 'hi_flow_lanes_layout',\n",
       " 'hi_flow_lanes_stack_type',\n",
       " 'hi_flow_rv_lanes_layout',\n",
       " 'hi_flow_rv_lanes_stack_type']"
      ]
     },
     "execution_count": 56,
     "metadata": {},
     "output_type": "execute_result"
    }
   ],
   "source": [
    "cat_col= q_data.select_dtypes(include=\"object\").columns.tolist()\n",
    "cat_col"
   ]
  },
  {
   "cell_type": "markdown",
   "id": "9VHJGlTUDjhB",
   "metadata": {
    "id": "9VHJGlTUDjhB"
   },
   "source": [
    "## 2.10. Replacing NA values with None"
   ]
  },
  {
   "cell_type": "code",
   "execution_count": 57,
   "id": "UpmEh1GpDjhB",
   "metadata": {
    "id": "UpmEh1GpDjhB"
   },
   "outputs": [],
   "source": [
    "columns_with_na = q_data.columns[q_data.isna().any()].tolist()\n",
    "\n",
    "for column in columns_with_na:\n",
    "    mode_value = q_data[column].mode()[0]\n",
    "    q_data[column].fillna(\"None\", inplace=True)"
   ]
  },
  {
   "cell_type": "markdown",
   "id": "dQI2fg-6DjhB",
   "metadata": {
    "id": "dQI2fg-6DjhB"
   },
   "source": [
    "## 2.11 Factorizing the Categorical columns"
   ]
  },
  {
   "cell_type": "code",
   "execution_count": 58,
   "id": "iPeCd_04DjhB",
   "metadata": {
    "id": "iPeCd_04DjhB"
   },
   "outputs": [],
   "source": [
    "for column in cat_col:\n",
    "    q_data[column] = pd.factorize(q_data[column])[0]"
   ]
  },
  {
   "cell_type": "code",
   "execution_count": 59,
   "id": "_sgGSTFVDjhB",
   "metadata": {
    "id": "_sgGSTFVDjhB"
   },
   "outputs": [],
   "source": [
    "import pandas as pd\n",
    "\n",
    "# Define bins and labels\n",
    "bins = [20, 30, 40, 50]\n",
    "labels = [1, 2, 3]\n",
    "\n",
    "# Bin the values in the 'parking_spaces' column\n",
    "q_data['parking_spaces'] = pd.cut(q_data['parking_spaces'], bins=bins, labels=labels, include_lowest=True).astype(int)"
   ]
  },
  {
   "cell_type": "code",
   "execution_count": 60,
   "id": "rB_sbEAlDjhB",
   "metadata": {
    "colab": {
     "base_uri": "https://localhost:8080/",
     "height": 256
    },
    "id": "rB_sbEAlDjhB",
    "outputId": "5340d3ec-fc48-4459-f6ee-b2dbac6fade0",
    "scrolled": true
   },
   "outputs": [
    {
     "data": {
      "text/html": [
       "<div>\n",
       "<style scoped>\n",
       "    .dataframe tbody tr th:only-of-type {\n",
       "        vertical-align: middle;\n",
       "    }\n",
       "\n",
       "    .dataframe tbody tr th {\n",
       "        vertical-align: top;\n",
       "    }\n",
       "\n",
       "    .dataframe thead th {\n",
       "        text-align: right;\n",
       "    }\n",
       "</style>\n",
       "<table border=\"1\" class=\"dataframe\">\n",
       "  <thead>\n",
       "    <tr style=\"text-align: right;\">\n",
       "      <th></th>\n",
       "      <th>open_year</th>\n",
       "      <th>square_feet</th>\n",
       "      <th>years_since_last_project</th>\n",
       "      <th>parking_spaces</th>\n",
       "      <th>lottery</th>\n",
       "      <th>freal</th>\n",
       "      <th>bonfire_grill</th>\n",
       "      <th>pizza</th>\n",
       "      <th>cinnabon</th>\n",
       "      <th>ethanol_free</th>\n",
       "      <th>...</th>\n",
       "      <th>hi_flow_lanes_stack_type</th>\n",
       "      <th>hi_flow_lanes_fueling_positions_2</th>\n",
       "      <th>rv_lanes_fueling_positions_2</th>\n",
       "      <th>hi_flow_rv_lanes_layout</th>\n",
       "      <th>hi_flow_rv_lanes_stack_type</th>\n",
       "      <th>mens_toilet_count</th>\n",
       "      <th>mens_urinal_count</th>\n",
       "      <th>womens_toilet_count</th>\n",
       "      <th>womens_sink_count</th>\n",
       "      <th>site_id_msba</th>\n",
       "    </tr>\n",
       "  </thead>\n",
       "  <tbody>\n",
       "    <tr>\n",
       "      <th>0</th>\n",
       "      <td>2021</td>\n",
       "      <td>5046</td>\n",
       "      <td>2</td>\n",
       "      <td>2</td>\n",
       "      <td>0</td>\n",
       "      <td>0</td>\n",
       "      <td>0</td>\n",
       "      <td>0</td>\n",
       "      <td>0</td>\n",
       "      <td>0</td>\n",
       "      <td>...</td>\n",
       "      <td>0</td>\n",
       "      <td>4</td>\n",
       "      <td>6</td>\n",
       "      <td>0</td>\n",
       "      <td>0</td>\n",
       "      <td>2</td>\n",
       "      <td>2</td>\n",
       "      <td>6</td>\n",
       "      <td>2</td>\n",
       "      <td>21560</td>\n",
       "    </tr>\n",
       "    <tr>\n",
       "      <th>1</th>\n",
       "      <td>2021</td>\n",
       "      <td>5046</td>\n",
       "      <td>2</td>\n",
       "      <td>2</td>\n",
       "      <td>1</td>\n",
       "      <td>0</td>\n",
       "      <td>0</td>\n",
       "      <td>1</td>\n",
       "      <td>0</td>\n",
       "      <td>1</td>\n",
       "      <td>...</td>\n",
       "      <td>0</td>\n",
       "      <td>9</td>\n",
       "      <td>4</td>\n",
       "      <td>1</td>\n",
       "      <td>0</td>\n",
       "      <td>5</td>\n",
       "      <td>5</td>\n",
       "      <td>10</td>\n",
       "      <td>4</td>\n",
       "      <td>21980</td>\n",
       "    </tr>\n",
       "    <tr>\n",
       "      <th>2</th>\n",
       "      <td>2021</td>\n",
       "      <td>5046</td>\n",
       "      <td>2</td>\n",
       "      <td>2</td>\n",
       "      <td>0</td>\n",
       "      <td>0</td>\n",
       "      <td>0</td>\n",
       "      <td>1</td>\n",
       "      <td>0</td>\n",
       "      <td>0</td>\n",
       "      <td>...</td>\n",
       "      <td>1</td>\n",
       "      <td>0</td>\n",
       "      <td>5</td>\n",
       "      <td>2</td>\n",
       "      <td>1</td>\n",
       "      <td>3</td>\n",
       "      <td>2</td>\n",
       "      <td>4</td>\n",
       "      <td>1</td>\n",
       "      <td>22015</td>\n",
       "    </tr>\n",
       "    <tr>\n",
       "      <th>3</th>\n",
       "      <td>2021</td>\n",
       "      <td>5046</td>\n",
       "      <td>2</td>\n",
       "      <td>2</td>\n",
       "      <td>1</td>\n",
       "      <td>0</td>\n",
       "      <td>0</td>\n",
       "      <td>1</td>\n",
       "      <td>0</td>\n",
       "      <td>0</td>\n",
       "      <td>...</td>\n",
       "      <td>0</td>\n",
       "      <td>5</td>\n",
       "      <td>4</td>\n",
       "      <td>1</td>\n",
       "      <td>0</td>\n",
       "      <td>3</td>\n",
       "      <td>3</td>\n",
       "      <td>6</td>\n",
       "      <td>2</td>\n",
       "      <td>22085</td>\n",
       "    </tr>\n",
       "    <tr>\n",
       "      <th>4</th>\n",
       "      <td>2021</td>\n",
       "      <td>5046</td>\n",
       "      <td>2</td>\n",
       "      <td>1</td>\n",
       "      <td>0</td>\n",
       "      <td>0</td>\n",
       "      <td>0</td>\n",
       "      <td>0</td>\n",
       "      <td>0</td>\n",
       "      <td>1</td>\n",
       "      <td>...</td>\n",
       "      <td>1</td>\n",
       "      <td>0</td>\n",
       "      <td>0</td>\n",
       "      <td>3</td>\n",
       "      <td>1</td>\n",
       "      <td>0</td>\n",
       "      <td>0</td>\n",
       "      <td>0</td>\n",
       "      <td>0</td>\n",
       "      <td>22120</td>\n",
       "    </tr>\n",
       "  </tbody>\n",
       "</table>\n",
       "<p>5 rows × 47 columns</p>\n",
       "</div>"
      ],
      "text/plain": [
       "   open_year  square_feet  years_since_last_project  parking_spaces  lottery  \\\n",
       "0       2021         5046                         2               2        0   \n",
       "1       2021         5046                         2               2        1   \n",
       "2       2021         5046                         2               2        0   \n",
       "3       2021         5046                         2               2        1   \n",
       "4       2021         5046                         2               1        0   \n",
       "\n",
       "   freal  bonfire_grill  pizza  cinnabon  ethanol_free  ...  \\\n",
       "0      0              0      0         0             0  ...   \n",
       "1      0              0      1         0             1  ...   \n",
       "2      0              0      1         0             0  ...   \n",
       "3      0              0      1         0             0  ...   \n",
       "4      0              0      0         0             1  ...   \n",
       "\n",
       "   hi_flow_lanes_stack_type  hi_flow_lanes_fueling_positions_2  \\\n",
       "0                         0                                  4   \n",
       "1                         0                                  9   \n",
       "2                         1                                  0   \n",
       "3                         0                                  5   \n",
       "4                         1                                  0   \n",
       "\n",
       "   rv_lanes_fueling_positions_2  hi_flow_rv_lanes_layout  \\\n",
       "0                             6                        0   \n",
       "1                             4                        1   \n",
       "2                             5                        2   \n",
       "3                             4                        1   \n",
       "4                             0                        3   \n",
       "\n",
       "   hi_flow_rv_lanes_stack_type  mens_toilet_count  mens_urinal_count  \\\n",
       "0                            0                  2                  2   \n",
       "1                            0                  5                  5   \n",
       "2                            1                  3                  2   \n",
       "3                            0                  3                  3   \n",
       "4                            1                  0                  0   \n",
       "\n",
       "   womens_toilet_count  womens_sink_count  site_id_msba  \n",
       "0                    6                  2         21560  \n",
       "1                   10                  4         21980  \n",
       "2                    4                  1         22015  \n",
       "3                    6                  2         22085  \n",
       "4                    0                  0         22120  \n",
       "\n",
       "[5 rows x 47 columns]"
      ]
     },
     "execution_count": 60,
     "metadata": {},
     "output_type": "execute_result"
    }
   ],
   "source": [
    "q_data.head()"
   ]
  },
  {
   "cell_type": "markdown",
   "id": "E6fISeV4DjhB",
   "metadata": {
    "id": "E6fISeV4DjhB"
   },
   "source": [
    "## 2.12. Finding NA and Categorical Values in Time Series Dataframe (t_data)"
   ]
  },
  {
   "cell_type": "code",
   "execution_count": 61,
   "id": "gYLTUnklDjhB",
   "metadata": {
    "colab": {
     "base_uri": "https://localhost:8080/"
    },
    "id": "gYLTUnklDjhB",
    "outputId": "966feb3f-401a-466b-d89c-39e0fc60bbe8"
   },
   "outputs": [
    {
     "data": {
      "text/plain": [
       "Series([], dtype: int64)"
      ]
     },
     "execution_count": 61,
     "metadata": {},
     "output_type": "execute_result"
    }
   ],
   "source": [
    "na_values = t_data.isna().sum()\n",
    "na_values[na_values > 0]"
   ]
  },
  {
   "cell_type": "markdown",
   "id": "ZkPUCD5hDjhB",
   "metadata": {
    "id": "ZkPUCD5hDjhB"
   },
   "source": [
    "There are no columns in time series data that has N/A value"
   ]
  },
  {
   "cell_type": "markdown",
   "id": "_LVYMhSVDjhJ",
   "metadata": {
    "id": "_LVYMhSVDjhJ"
   },
   "source": [
    "## 2.13.Extracting Year, Month and Date from Calendar_day_date"
   ]
  },
  {
   "cell_type": "code",
   "execution_count": 62,
   "id": "yUcSE4lUDjhJ",
   "metadata": {
    "id": "yUcSE4lUDjhJ"
   },
   "outputs": [],
   "source": [
    "t_data['calendar.calendar_day_date'] = pd.to_datetime(t_data['calendar.calendar_day_date'])\n",
    "\n",
    "t_data['calendar_year'] = t_data['calendar.calendar_day_date'].dt.year\n",
    "t_data['calendar_month'] = t_data['calendar.calendar_day_date'].dt.month\n",
    "t_data['calendar_day'] = t_data['calendar.calendar_day_date'].dt.day"
   ]
  },
  {
   "cell_type": "code",
   "execution_count": 63,
   "id": "heJaOl-RDjhJ",
   "metadata": {
    "colab": {
     "base_uri": "https://localhost:8080/",
     "height": 226
    },
    "id": "heJaOl-RDjhJ",
    "outputId": "a1334e86-32d8-4eba-b8de-9bfcd86878db"
   },
   "outputs": [
    {
     "data": {
      "text/html": [
       "<div>\n",
       "<style scoped>\n",
       "    .dataframe tbody tr th:only-of-type {\n",
       "        vertical-align: middle;\n",
       "    }\n",
       "\n",
       "    .dataframe tbody tr th {\n",
       "        vertical-align: top;\n",
       "    }\n",
       "\n",
       "    .dataframe thead th {\n",
       "        text-align: right;\n",
       "    }\n",
       "</style>\n",
       "<table border=\"1\" class=\"dataframe\">\n",
       "  <thead>\n",
       "    <tr style=\"text-align: right;\">\n",
       "      <th></th>\n",
       "      <th>capital_projects.soft_opening_date</th>\n",
       "      <th>calendar.calendar_day_date</th>\n",
       "      <th>calendar.fiscal_week_id_for_year</th>\n",
       "      <th>calendar.day_of_week</th>\n",
       "      <th>calendar_information.holiday</th>\n",
       "      <th>calendar_information.type_of_day</th>\n",
       "      <th>daily_yoy_ndt.total_inside_sales</th>\n",
       "      <th>daily_yoy_ndt.total_food_service</th>\n",
       "      <th>diesel</th>\n",
       "      <th>unleaded</th>\n",
       "      <th>site_id_msba</th>\n",
       "      <th>calendar_year</th>\n",
       "      <th>calendar_month</th>\n",
       "      <th>calendar_day</th>\n",
       "    </tr>\n",
       "  </thead>\n",
       "  <tbody>\n",
       "    <tr>\n",
       "      <th>0</th>\n",
       "      <td>2022-06-14</td>\n",
       "      <td>2022-06-17</td>\n",
       "      <td>25</td>\n",
       "      <td>Friday</td>\n",
       "      <td>NONE</td>\n",
       "      <td>WEEKDAY</td>\n",
       "      <td>2168.2920</td>\n",
       "      <td>861.6930</td>\n",
       "      <td>722.7745</td>\n",
       "      <td>1425.1020</td>\n",
       "      <td>24535</td>\n",
       "      <td>2022</td>\n",
       "      <td>6</td>\n",
       "      <td>17</td>\n",
       "    </tr>\n",
       "    <tr>\n",
       "      <th>1</th>\n",
       "      <td>2022-06-14</td>\n",
       "      <td>2022-06-22</td>\n",
       "      <td>25</td>\n",
       "      <td>Wednesday</td>\n",
       "      <td>NONE</td>\n",
       "      <td>WEEKDAY</td>\n",
       "      <td>2051.5635</td>\n",
       "      <td>808.0275</td>\n",
       "      <td>730.4850</td>\n",
       "      <td>1436.2740</td>\n",
       "      <td>24535</td>\n",
       "      <td>2022</td>\n",
       "      <td>6</td>\n",
       "      <td>22</td>\n",
       "    </tr>\n",
       "    <tr>\n",
       "      <th>2</th>\n",
       "      <td>2022-06-14</td>\n",
       "      <td>2022-06-23</td>\n",
       "      <td>25</td>\n",
       "      <td>Thursday</td>\n",
       "      <td>NONE</td>\n",
       "      <td>WEEKDAY</td>\n",
       "      <td>2257.5000</td>\n",
       "      <td>966.4410</td>\n",
       "      <td>895.7970</td>\n",
       "      <td>1594.3725</td>\n",
       "      <td>24535</td>\n",
       "      <td>2022</td>\n",
       "      <td>6</td>\n",
       "      <td>23</td>\n",
       "    </tr>\n",
       "    <tr>\n",
       "      <th>3</th>\n",
       "      <td>2022-06-14</td>\n",
       "      <td>2022-06-26</td>\n",
       "      <td>26</td>\n",
       "      <td>Sunday</td>\n",
       "      <td>NONE</td>\n",
       "      <td>WEEKEND</td>\n",
       "      <td>1520.5925</td>\n",
       "      <td>542.3250</td>\n",
       "      <td>584.2900</td>\n",
       "      <td>1124.9280</td>\n",
       "      <td>24535</td>\n",
       "      <td>2022</td>\n",
       "      <td>6</td>\n",
       "      <td>26</td>\n",
       "    </tr>\n",
       "    <tr>\n",
       "      <th>4</th>\n",
       "      <td>2022-06-14</td>\n",
       "      <td>2022-06-27</td>\n",
       "      <td>26</td>\n",
       "      <td>Monday</td>\n",
       "      <td>NONE</td>\n",
       "      <td>WEEKDAY</td>\n",
       "      <td>1897.6930</td>\n",
       "      <td>771.4525</td>\n",
       "      <td>852.2605</td>\n",
       "      <td>1640.2540</td>\n",
       "      <td>24535</td>\n",
       "      <td>2022</td>\n",
       "      <td>6</td>\n",
       "      <td>27</td>\n",
       "    </tr>\n",
       "  </tbody>\n",
       "</table>\n",
       "</div>"
      ],
      "text/plain": [
       "  capital_projects.soft_opening_date calendar.calendar_day_date  \\\n",
       "0                         2022-06-14                 2022-06-17   \n",
       "1                         2022-06-14                 2022-06-22   \n",
       "2                         2022-06-14                 2022-06-23   \n",
       "3                         2022-06-14                 2022-06-26   \n",
       "4                         2022-06-14                 2022-06-27   \n",
       "\n",
       "   calendar.fiscal_week_id_for_year calendar.day_of_week  \\\n",
       "0                                25               Friday   \n",
       "1                                25            Wednesday   \n",
       "2                                25             Thursday   \n",
       "3                                26               Sunday   \n",
       "4                                26               Monday   \n",
       "\n",
       "  calendar_information.holiday calendar_information.type_of_day  \\\n",
       "0                         NONE                          WEEKDAY   \n",
       "1                         NONE                          WEEKDAY   \n",
       "2                         NONE                          WEEKDAY   \n",
       "3                         NONE                          WEEKEND   \n",
       "4                         NONE                          WEEKDAY   \n",
       "\n",
       "   daily_yoy_ndt.total_inside_sales  daily_yoy_ndt.total_food_service  \\\n",
       "0                         2168.2920                          861.6930   \n",
       "1                         2051.5635                          808.0275   \n",
       "2                         2257.5000                          966.4410   \n",
       "3                         1520.5925                          542.3250   \n",
       "4                         1897.6930                          771.4525   \n",
       "\n",
       "     diesel   unleaded  site_id_msba  calendar_year  calendar_month  \\\n",
       "0  722.7745  1425.1020         24535           2022               6   \n",
       "1  730.4850  1436.2740         24535           2022               6   \n",
       "2  895.7970  1594.3725         24535           2022               6   \n",
       "3  584.2900  1124.9280         24535           2022               6   \n",
       "4  852.2605  1640.2540         24535           2022               6   \n",
       "\n",
       "   calendar_day  \n",
       "0            17  \n",
       "1            22  \n",
       "2            23  \n",
       "3            26  \n",
       "4            27  "
      ]
     },
     "execution_count": 63,
     "metadata": {},
     "output_type": "execute_result"
    }
   ],
   "source": [
    "t_data.head()"
   ]
  },
  {
   "cell_type": "markdown",
   "id": "NWXFowK-DjhJ",
   "metadata": {
    "id": "NWXFowK-DjhJ"
   },
   "source": [
    "## 2.14. Analysis On Qualitative and Time Series Data"
   ]
  },
  {
   "cell_type": "markdown",
   "id": "tj-TWW4SDjhJ",
   "metadata": {
    "id": "tj-TWW4SDjhJ"
   },
   "source": [
    "### Analysing the 4 target variables(In-Store, Food, Diesel, Unleaded)"
   ]
  },
  {
   "cell_type": "markdown",
   "id": "R9Mx_AgzDjhJ",
   "metadata": {
    "id": "R9Mx_AgzDjhJ"
   },
   "source": [
    "#### Plotting diesel and unleaded sales on Days of the week for the year 2021,2022 and 2023"
   ]
  },
  {
   "cell_type": "code",
   "execution_count": 64,
   "id": "TayOfrd_DjhJ",
   "metadata": {
    "id": "TayOfrd_DjhJ"
   },
   "outputs": [],
   "source": [
    "t_data['calendar.calendar_day_date'] = pd.to_datetime(t_data['calendar.calendar_day_date'])\n",
    "\n",
    "t_data.set_index('calendar.calendar_day_date', inplace=True)"
   ]
  },
  {
   "cell_type": "markdown",
   "id": "PqYAo7bqDjhJ",
   "metadata": {
    "id": "PqYAo7bqDjhJ"
   },
   "source": [
    "#### Sales of all target variables based on Calender Week"
   ]
  },
  {
   "cell_type": "code",
   "execution_count": 65,
   "id": "kaDICxn5DjhJ",
   "metadata": {
    "colab": {
     "base_uri": "https://localhost:8080/"
    },
    "id": "kaDICxn5DjhJ",
    "outputId": "7534ba75-5d51-499c-cb15-e2bc20d407b3"
   },
   "outputs": [
    {
     "data": {
      "text/plain": [
       "(1, 52)"
      ]
     },
     "execution_count": 65,
     "metadata": {},
     "output_type": "execute_result"
    }
   ],
   "source": [
    "t_data['calendar.fiscal_week_id_for_year'].min(), t_data['calendar.fiscal_week_id_for_year'].max()"
   ]
  },
  {
   "cell_type": "code",
   "execution_count": 66,
   "id": "bfg55PueDjhJ",
   "metadata": {
    "id": "bfg55PueDjhJ"
   },
   "outputs": [],
   "source": [
    "df_time_aggregate = t_data.groupby('calendar.fiscal_week_id_for_year')['daily_yoy_ndt.total_inside_sales', 'daily_yoy_ndt.total_food_service', 'diesel', 'unleaded'].sum().reset_index()"
   ]
  },
  {
   "cell_type": "markdown",
   "id": "hMN2CdEYDjhJ",
   "metadata": {
    "id": "hMN2CdEYDjhJ"
   },
   "source": [
    "Lets check if we have more than one sales data for a date"
   ]
  },
  {
   "cell_type": "code",
   "execution_count": 67,
   "id": "kiga2SjxDjhJ",
   "metadata": {
    "colab": {
     "base_uri": "https://localhost:8080/"
    },
    "id": "kiga2SjxDjhJ",
    "outputId": "f8ebf9ef-ea94-42dc-99b9-a7e2879c2c00"
   },
   "outputs": [
    {
     "data": {
      "text/plain": [
       "calendar.fiscal_week_id_for_year\n",
       "20    273\n",
       "38    270\n",
       "13    270\n",
       "33    270\n",
       "28    270\n",
       "24    270\n",
       "21    270\n",
       "49    270\n",
       "45    270\n",
       "19    269\n",
       "11    268\n",
       "46    268\n",
       "39    268\n",
       "32    268\n",
       "31    268\n",
       "30    268\n",
       "29    268\n",
       "4     268\n",
       "2     268\n",
       "26    268\n",
       "25    268\n",
       "5     268\n",
       "42    268\n",
       "50    268\n",
       "18    268\n",
       "15    268\n",
       "9     268\n",
       "41    266\n",
       "48    266\n",
       "37    266\n",
       "43    266\n",
       "44    266\n",
       "51    266\n",
       "40    266\n",
       "47    266\n",
       "1     266\n",
       "27    266\n",
       "36    266\n",
       "35    266\n",
       "34    266\n",
       "23    266\n",
       "22    266\n",
       "17    266\n",
       "16    266\n",
       "14    266\n",
       "12    266\n",
       "10    266\n",
       "8     266\n",
       "7     266\n",
       "6     266\n",
       "3     266\n",
       "52    266\n",
       "Name: daily_yoy_ndt.total_inside_sales, dtype: int64"
      ]
     },
     "execution_count": 67,
     "metadata": {},
     "output_type": "execute_result"
    }
   ],
   "source": [
    "temp = t_data.groupby('calendar.fiscal_week_id_for_year')['daily_yoy_ndt.total_inside_sales'].size()\n",
    "temp[temp > 1].sort_values(ascending=False)"
   ]
  },
  {
   "cell_type": "markdown",
   "id": "4VP2PIJFDjhJ",
   "metadata": {
    "id": "4VP2PIJFDjhJ"
   },
   "source": [
    "##### Indexing with Time Series Data"
   ]
  },
  {
   "cell_type": "code",
   "execution_count": 68,
   "id": "bANgFj62DjhJ",
   "metadata": {
    "colab": {
     "base_uri": "https://localhost:8080/"
    },
    "id": "bANgFj62DjhJ",
    "outputId": "60e9e344-a498-48cd-b351-af2c29b9dec3"
   },
   "outputs": [
    {
     "data": {
      "text/plain": [
       "Int64Index([ 1,  2,  3,  4,  5,  6,  7,  8,  9, 10, 11, 12, 13, 14, 15, 16, 17,\n",
       "            18, 19, 20, 21, 22, 23, 24, 25, 26, 27, 28, 29, 30, 31, 32, 33, 34,\n",
       "            35, 36, 37, 38, 39, 40, 41, 42, 43, 44, 45, 46, 47, 48, 49, 50, 51,\n",
       "            52],\n",
       "           dtype='int64', name='calendar.fiscal_week_id_for_year')"
      ]
     },
     "execution_count": 68,
     "metadata": {},
     "output_type": "execute_result"
    }
   ],
   "source": [
    "df_time_aggregate = df_time_aggregate.set_index('calendar.fiscal_week_id_for_year')\n",
    "df_time_aggregate.index"
   ]
  },
  {
   "cell_type": "code",
   "execution_count": 69,
   "id": "i9G83-ZSDjhJ",
   "metadata": {
    "colab": {
     "base_uri": "https://localhost:8080/",
     "height": 468
    },
    "id": "i9G83-ZSDjhJ",
    "outputId": "ccceb7e5-a205-44dc-d96c-cf2060ec9e6c"
   },
   "outputs": [
    {
     "data": {
      "text/plain": [
       "<Figure size 2880x3600 with 0 Axes>"
      ]
     },
     "metadata": {},
     "output_type": "display_data"
    },
    {
     "data": {
      "image/png": "[encoded data removed]",
      "text/plain": [
       "<Figure size 432x288 with 1 Axes>"
      ]
     },
     "metadata": {
      "needs_background": "light"
     },
     "output_type": "display_data"
    }
   ],
   "source": [
    "plt.figure(figsize=(40, 50));\n",
    "df_time_aggregate.plot();"
   ]
  },
  {
   "cell_type": "markdown",
   "id": "xIwDpP9cDjhJ",
   "metadata": {
    "id": "xIwDpP9cDjhJ"
   },
   "source": [
    "#### Identifying Sale of Diesel and Unleaded during Weekend and Weekdays of the years 2021, 2022, 2023"
   ]
  },
  {
   "cell_type": "code",
   "execution_count": 70,
   "id": "nlX9Bk26DjhK",
   "metadata": {
    "colab": {
     "base_uri": "https://localhost:8080/",
     "height": 1000
    },
    "id": "nlX9Bk26DjhK",
    "outputId": "b734ccf8-5f15-459a-b675-41e96427728b"
   },
   "outputs": [
    {
     "data": {
      "image/png": "[encoded data removed]",
      "text/plain": [
       "<Figure size 720x432 with 1 Axes>"
      ]
     },
     "metadata": {
      "needs_background": "light"
     },
     "output_type": "display_data"
    },
    {
     "data": {
      "image/png": "[encoded data removed]",
      "text/plain": [
       "<Figure size 720x432 with 1 Axes>"
      ]
     },
     "metadata": {
      "needs_background": "light"
     },
     "output_type": "display_data"
    },
    {
     "data": {
      "image/png": "[encoded data removed]",
      "text/plain": [
       "<Figure size 720x432 with 1 Axes>"
      ]
     },
     "metadata": {
      "needs_background": "light"
     },
     "output_type": "display_data"
    }
   ],
   "source": [
    "for year in [2021, 2022, 2023]:\n",
    "    sales_year = t_data[t_data['calendar_year'] == year]\n",
    "    pivot_table = sales_year.pivot_table(index='calendar_information.type_of_day',\n",
    "                                         values=['diesel', 'unleaded'],\n",
    "                                         aggfunc='sum')\n",
    "    ax = pivot_table.plot(kind='bar', figsize=(10, 6))\n",
    "    plt.title(f'Diesel vs. Unleaded Sales by Type of Day - {year}')\n",
    "    plt.xlabel('Type of Day')\n",
    "    plt.ylabel('Total Sales')\n",
    "    ax.yaxis.set_major_formatter(mtick.FuncFormatter(lambda x, p: format(int(x), ',')))\n",
    "    ax.set_xticklabels(pivot_table.index, rotation=0)\n",
    "\n",
    "    plt.legend(['Diesel', 'Unleaded'])\n",
    "    plt.show()"
   ]
  },
  {
   "cell_type": "markdown",
   "id": "E0IcpTWlDjhK",
   "metadata": {
    "id": "E0IcpTWlDjhK"
   },
   "source": [
    "#### Identifying Sale of Merchandise and Food during Weekend and Weekdays for the years 2021,2022,2023"
   ]
  },
  {
   "cell_type": "code",
   "execution_count": 71,
   "id": "UolrKn1zDjhK",
   "metadata": {
    "colab": {
     "base_uri": "https://localhost:8080/",
     "height": 1000
    },
    "id": "UolrKn1zDjhK",
    "outputId": "d7cf7591-111e-423b-f7bd-314251e9d7ac"
   },
   "outputs": [
    {
     "data": {
      "image/png": "[encoded data removed]",
      "text/plain": [
       "<Figure size 720x432 with 1 Axes>"
      ]
     },
     "metadata": {
      "needs_background": "light"
     },
     "output_type": "display_data"
    },
    {
     "data": {
      "image/png": "[encoded data removed]",
      "text/plain": [
       "<Figure size 720x432 with 1 Axes>"
      ]
     },
     "metadata": {
      "needs_background": "light"
     },
     "output_type": "display_data"
    },
    {
     "data": {
      "image/png": "[encoded data removed]",
      "text/plain": [
       "<Figure size 720x432 with 1 Axes>"
      ]
     },
     "metadata": {
      "needs_background": "light"
     },
     "output_type": "display_data"
    }
   ],
   "source": [
    "for year in [2021, 2022, 2023]:\n",
    "    sales_year = t_data[t_data['calendar_year'] == year]\n",
    "    pivot_table = sales_year.pivot_table(index='calendar_information.type_of_day',\n",
    "                                         values=['daily_yoy_ndt.total_inside_sales', 'daily_yoy_ndt.total_food_service'],\n",
    "                                         aggfunc='sum')\n",
    "    ax = pivot_table.plot(kind='bar', figsize=(10, 6))\n",
    "    plt.title(f'Merchandise vs. Food Sales by Type of Day - {year}')\n",
    "    plt.xlabel('Type of Day')\n",
    "    plt.ylabel('Total Sales')\n",
    "    ax.yaxis.set_major_formatter(mtick.FuncFormatter(lambda x, p: format(int(x), ',')))"
   ]
  },
  {
   "cell_type": "markdown",
   "id": "Jt4sK3WDDjhK",
   "metadata": {
    "id": "Jt4sK3WDDjhK"
   },
   "source": [
    "#### Plotting In Store and food sales of Maverik store during each month of the year 2021,2022 and 2023"
   ]
  },
  {
   "cell_type": "code",
   "execution_count": 89,
   "id": "Mpzd1UdQDjhK",
   "metadata": {
    "colab": {
     "base_uri": "https://localhost:8080/",
     "height": 1000
    },
    "id": "Mpzd1UdQDjhK",
    "outputId": "fa47961d-8b29-4611-e92c-02b733fe8c07"
   },
   "outputs": [
    {
     "data": {
      "image/png": "[encoded data removed]",
      "text/plain": [
       "<Figure size 720x432 with 1 Axes>"
      ]
     },
     "metadata": {
      "needs_background": "light"
     },
     "output_type": "display_data"
    },
    {
     "data": {
      "image/png": "[encoded data removed]",
      "text/plain": [
       "<Figure size 720x432 with 1 Axes>"
      ]
     },
     "metadata": {
      "needs_background": "light"
     },
     "output_type": "display_data"
    }
   ],
   "source": [
    "average_sales_2021 = t_data_2021.groupby('calendar_month')['daily_yoy_ndt.total_inside_sales'].mean()\n",
    "average_sales_2022 = t_data_2022.groupby('calendar_month')['daily_yoy_ndt.total_inside_sales'].mean()\n",
    "average_sales_2023 = t_data_2023.groupby('calendar_month')['daily_yoy_ndt.total_inside_sales'].mean()\n",
    "months = range(1,13)\n",
    "months_2023 = range(1, 9)\n",
    "\n",
    "plt.figure(figsize=(10, 6))\n",
    "\n",
    "plt.plot(months, average_sales_2021, label='2021')\n",
    "plt.plot(months, average_sales_2022, label='2022')\n",
    "plt.plot(months_2023, average_sales_2023, label='2023')\n",
    "\n",
    "plt.xlabel('Month')\n",
    "plt.ylabel('Average Sales')\n",
    "plt.title('Average Inside Sales per Month (2021-2023)')\n",
    "plt.legend()\n",
    "plt.show()\n",
    "\n",
    "\n",
    "\n",
    "average_sales_2021 = t_data_2021.groupby('calendar_month')['daily_yoy_ndt.total_food_service'].mean()\n",
    "average_sales_2022 = t_data_2022.groupby('calendar_month')['daily_yoy_ndt.total_food_service'].mean()\n",
    "average_sales_2023 = t_data_2023.groupby('calendar_month')['daily_yoy_ndt.total_food_service'].mean()\n",
    "\n",
    "months_2023 = range(1, 9)\n",
    "\n",
    "plt.figure(figsize=(10, 6))\n",
    "\n",
    "plt.plot(months, average_sales_2021, label='2021')\n",
    "plt.plot(months, average_sales_2022, label='2022')\n",
    "plt.plot(months_2023, average_sales_2023, label='2023')\n",
    "\n",
    "plt.xlabel('Month')\n",
    "plt.ylabel('Average Sales')\n",
    "plt.title('Average Food Sales per Month (2021-2023)')\n",
    "plt.legend()\n",
    "plt.show()\n",
    "\n"
   ]
  },
  {
   "cell_type": "markdown",
   "id": "4FPkkj1GDjhK",
   "metadata": {
    "id": "4FPkkj1GDjhK"
   },
   "source": [
    "From the graphs depicted above, we can observe that the sale of in-store and food items increase during the end of Spring and whole summer season, it starts dipping during the end of Fall with the minimum sales observed during the last month of the year. We can roughly predict that this year sales are going to dip after Fall."
   ]
  },
  {
   "cell_type": "markdown",
   "id": "vaGRb7kiDjhK",
   "metadata": {
    "id": "vaGRb7kiDjhK"
   },
   "source": [
    "#### Plotting Diesel and Unleaded sales of Maverik store during each month of the year 2021,2022 and 2023"
   ]
  },
  {
   "cell_type": "code",
   "execution_count": 90,
   "id": "OgUP6oggDjhK",
   "metadata": {
    "colab": {
     "base_uri": "https://localhost:8080/",
     "height": 1000
    },
    "id": "OgUP6oggDjhK",
    "outputId": "4b383a4b-11d3-4699-8bc7-8fae4610f657"
   },
   "outputs": [
    {
     "data": {
      "image/png": "[encoded data removed]",
      "text/plain": [
       "<Figure size 720x432 with 1 Axes>"
      ]
     },
     "metadata": {
      "needs_background": "light"
     },
     "output_type": "display_data"
    },
    {
     "data": {
      "image/png": "[encoded data removed]",
      "text/plain": [
       "<Figure size 720x432 with 1 Axes>"
      ]
     },
     "metadata": {
      "needs_background": "light"
     },
     "output_type": "display_data"
    }
   ],
   "source": [
    "average_sales_2021 = t_data_2021.groupby('calendar_month')['diesel'].mean()\n",
    "average_sales_2022 = t_data_2022.groupby('calendar_month')['diesel'].mean()\n",
    "average_sales_2023 = t_data_2023.groupby('calendar_month')['diesel'].mean()\n",
    "\n",
    "months_2023 = range(1, 9)\n",
    "\n",
    "plt.figure(figsize=(10, 6))\n",
    "\n",
    "plt.plot(months, average_sales_2021, label='2021')\n",
    "plt.plot(months, average_sales_2022, label='2022')\n",
    "plt.plot(months_2023, average_sales_2023, label='2023')\n",
    "\n",
    "plt.xlabel('Month')\n",
    "plt.ylabel('Average Sales')\n",
    "plt.title('Average Diesel Sales per Month (2021-2023)')\n",
    "plt.legend()\n",
    "plt.show()\n",
    "\n",
    "\n",
    "\n",
    "average_sales_2021 = t_data_2021.groupby('calendar_month')['unleaded'].mean()\n",
    "average_sales_2022 = t_data_2022.groupby('calendar_month')['unleaded'].mean()\n",
    "average_sales_2023 = t_data_2023.groupby('calendar_month')['unleaded'].mean()\n",
    "\n",
    "months_2023 = range(1, 9)\n",
    "\n",
    "plt.figure(figsize=(10, 6))\n",
    "\n",
    "plt.plot(months, average_sales_2021, label='2021')\n",
    "plt.plot(months, average_sales_2022, label='2022')\n",
    "plt.plot(months_2023, average_sales_2023, label='2023')\n",
    "\n",
    "plt.xlabel('Month')\n",
    "plt.ylabel('Average Sales')\n",
    "plt.title('Average unleaded Sales per Month (2021-2023)')\n",
    "plt.legend()\n",
    "plt.show()"
   ]
  },
  {
   "cell_type": "markdown",
   "id": "_jk_gZjrDjhK",
   "metadata": {
    "id": "_jk_gZjrDjhK"
   },
   "source": [
    "We can see that year 2023 has the higher average sales of  unleaded during July and August compared to the previous years whereas Diesel observed a good rise till July 2023 but there was a sudden dip in its average sales during August 2023."
   ]
  },
  {
   "cell_type": "markdown",
   "id": "ULOaJlBaDjhL",
   "metadata": {
    "id": "ULOaJlBaDjhL"
   },
   "source": [
    "<a class=\"anchor\" id=\"3.Mergingbothdataframes\"></a>\n",
    "# 3. Merging both dataframes"
   ]
  },
  {
   "cell_type": "code",
   "execution_count": 92,
   "id": "NFLZ7Mv-DjhL",
   "metadata": {
    "id": "NFLZ7Mv-DjhL"
   },
   "outputs": [],
   "source": [
    "df_merged=pd.merge(t_data,q_data, on='site_id_msba', how='left')"
   ]
  },
  {
   "cell_type": "code",
   "execution_count": 93,
   "id": "IGChfaFEDjhL",
   "metadata": {
    "colab": {
     "base_uri": "https://localhost:8080/"
    },
    "id": "IGChfaFEDjhL",
    "outputId": "19aeb526-88cf-4a29-966d-a3e8cf2d1a43"
   },
   "outputs": [
    {
     "data": {
      "text/plain": [
       "(13908, 60)"
      ]
     },
     "execution_count": 93,
     "metadata": {},
     "output_type": "execute_result"
    }
   ],
   "source": [
    "df_merged.shape"
   ]
  },
  {
   "cell_type": "code",
   "execution_count": 94,
   "id": "hLP7W_awDjhL",
   "metadata": {
    "colab": {
     "base_uri": "https://localhost:8080/",
     "height": 256
    },
    "id": "hLP7W_awDjhL",
    "outputId": "579b4a84-655a-4d80-f0a3-0a49b166c880"
   },
   "outputs": [
    {
     "data": {
      "text/html": [
       "<div>\n",
       "<style scoped>\n",
       "    .dataframe tbody tr th:only-of-type {\n",
       "        vertical-align: middle;\n",
       "    }\n",
       "\n",
       "    .dataframe tbody tr th {\n",
       "        vertical-align: top;\n",
       "    }\n",
       "\n",
       "    .dataframe thead th {\n",
       "        text-align: right;\n",
       "    }\n",
       "</style>\n",
       "<table border=\"1\" class=\"dataframe\">\n",
       "  <thead>\n",
       "    <tr style=\"text-align: right;\">\n",
       "      <th></th>\n",
       "      <th>capital_projects.soft_opening_date</th>\n",
       "      <th>calendar.fiscal_week_id_for_year</th>\n",
       "      <th>calendar.day_of_week</th>\n",
       "      <th>calendar_information.holiday</th>\n",
       "      <th>calendar_information.type_of_day</th>\n",
       "      <th>daily_yoy_ndt.total_inside_sales</th>\n",
       "      <th>daily_yoy_ndt.total_food_service</th>\n",
       "      <th>diesel</th>\n",
       "      <th>unleaded</th>\n",
       "      <th>site_id_msba</th>\n",
       "      <th>...</th>\n",
       "      <th>hi_flow_lanes_layout</th>\n",
       "      <th>hi_flow_lanes_stack_type</th>\n",
       "      <th>hi_flow_lanes_fueling_positions_2</th>\n",
       "      <th>rv_lanes_fueling_positions_2</th>\n",
       "      <th>hi_flow_rv_lanes_layout</th>\n",
       "      <th>hi_flow_rv_lanes_stack_type</th>\n",
       "      <th>mens_toilet_count</th>\n",
       "      <th>mens_urinal_count</th>\n",
       "      <th>womens_toilet_count</th>\n",
       "      <th>womens_sink_count</th>\n",
       "    </tr>\n",
       "  </thead>\n",
       "  <tbody>\n",
       "    <tr>\n",
       "      <th>0</th>\n",
       "      <td>2022-06-14</td>\n",
       "      <td>25</td>\n",
       "      <td>Friday</td>\n",
       "      <td>NONE</td>\n",
       "      <td>WEEKDAY</td>\n",
       "      <td>2168.2920</td>\n",
       "      <td>861.6930</td>\n",
       "      <td>722.7745</td>\n",
       "      <td>1425.1020</td>\n",
       "      <td>24535</td>\n",
       "      <td>...</td>\n",
       "      <td>1.0</td>\n",
       "      <td>0.0</td>\n",
       "      <td>5.0</td>\n",
       "      <td>4.0</td>\n",
       "      <td>1.0</td>\n",
       "      <td>0.0</td>\n",
       "      <td>1.0</td>\n",
       "      <td>1.0</td>\n",
       "      <td>2.0</td>\n",
       "      <td>2.0</td>\n",
       "    </tr>\n",
       "    <tr>\n",
       "      <th>1</th>\n",
       "      <td>2022-06-14</td>\n",
       "      <td>25</td>\n",
       "      <td>Wednesday</td>\n",
       "      <td>NONE</td>\n",
       "      <td>WEEKDAY</td>\n",
       "      <td>2051.5635</td>\n",
       "      <td>808.0275</td>\n",
       "      <td>730.4850</td>\n",
       "      <td>1436.2740</td>\n",
       "      <td>24535</td>\n",
       "      <td>...</td>\n",
       "      <td>1.0</td>\n",
       "      <td>0.0</td>\n",
       "      <td>5.0</td>\n",
       "      <td>4.0</td>\n",
       "      <td>1.0</td>\n",
       "      <td>0.0</td>\n",
       "      <td>1.0</td>\n",
       "      <td>1.0</td>\n",
       "      <td>2.0</td>\n",
       "      <td>2.0</td>\n",
       "    </tr>\n",
       "    <tr>\n",
       "      <th>2</th>\n",
       "      <td>2022-06-14</td>\n",
       "      <td>25</td>\n",
       "      <td>Thursday</td>\n",
       "      <td>NONE</td>\n",
       "      <td>WEEKDAY</td>\n",
       "      <td>2257.5000</td>\n",
       "      <td>966.4410</td>\n",
       "      <td>895.7970</td>\n",
       "      <td>1594.3725</td>\n",
       "      <td>24535</td>\n",
       "      <td>...</td>\n",
       "      <td>1.0</td>\n",
       "      <td>0.0</td>\n",
       "      <td>5.0</td>\n",
       "      <td>4.0</td>\n",
       "      <td>1.0</td>\n",
       "      <td>0.0</td>\n",
       "      <td>1.0</td>\n",
       "      <td>1.0</td>\n",
       "      <td>2.0</td>\n",
       "      <td>2.0</td>\n",
       "    </tr>\n",
       "    <tr>\n",
       "      <th>3</th>\n",
       "      <td>2022-06-14</td>\n",
       "      <td>26</td>\n",
       "      <td>Sunday</td>\n",
       "      <td>NONE</td>\n",
       "      <td>WEEKEND</td>\n",
       "      <td>1520.5925</td>\n",
       "      <td>542.3250</td>\n",
       "      <td>584.2900</td>\n",
       "      <td>1124.9280</td>\n",
       "      <td>24535</td>\n",
       "      <td>...</td>\n",
       "      <td>1.0</td>\n",
       "      <td>0.0</td>\n",
       "      <td>5.0</td>\n",
       "      <td>4.0</td>\n",
       "      <td>1.0</td>\n",
       "      <td>0.0</td>\n",
       "      <td>1.0</td>\n",
       "      <td>1.0</td>\n",
       "      <td>2.0</td>\n",
       "      <td>2.0</td>\n",
       "    </tr>\n",
       "    <tr>\n",
       "      <th>4</th>\n",
       "      <td>2022-06-14</td>\n",
       "      <td>26</td>\n",
       "      <td>Monday</td>\n",
       "      <td>NONE</td>\n",
       "      <td>WEEKDAY</td>\n",
       "      <td>1897.6930</td>\n",
       "      <td>771.4525</td>\n",
       "      <td>852.2605</td>\n",
       "      <td>1640.2540</td>\n",
       "      <td>24535</td>\n",
       "      <td>...</td>\n",
       "      <td>1.0</td>\n",
       "      <td>0.0</td>\n",
       "      <td>5.0</td>\n",
       "      <td>4.0</td>\n",
       "      <td>1.0</td>\n",
       "      <td>0.0</td>\n",
       "      <td>1.0</td>\n",
       "      <td>1.0</td>\n",
       "      <td>2.0</td>\n",
       "      <td>2.0</td>\n",
       "    </tr>\n",
       "  </tbody>\n",
       "</table>\n",
       "<p>5 rows × 60 columns</p>\n",
       "</div>"
      ],
      "text/plain": [
       "  capital_projects.soft_opening_date  calendar.fiscal_week_id_for_year  \\\n",
       "0                         2022-06-14                                25   \n",
       "1                         2022-06-14                                25   \n",
       "2                         2022-06-14                                25   \n",
       "3                         2022-06-14                                26   \n",
       "4                         2022-06-14                                26   \n",
       "\n",
       "  calendar.day_of_week calendar_information.holiday  \\\n",
       "0               Friday                         NONE   \n",
       "1            Wednesday                         NONE   \n",
       "2             Thursday                         NONE   \n",
       "3               Sunday                         NONE   \n",
       "4               Monday                         NONE   \n",
       "\n",
       "  calendar_information.type_of_day  daily_yoy_ndt.total_inside_sales  \\\n",
       "0                          WEEKDAY                         2168.2920   \n",
       "1                          WEEKDAY                         2051.5635   \n",
       "2                          WEEKDAY                         2257.5000   \n",
       "3                          WEEKEND                         1520.5925   \n",
       "4                          WEEKDAY                         1897.6930   \n",
       "\n",
       "   daily_yoy_ndt.total_food_service    diesel   unleaded  site_id_msba  ...  \\\n",
       "0                          861.6930  722.7745  1425.1020         24535  ...   \n",
       "1                          808.0275  730.4850  1436.2740         24535  ...   \n",
       "2                          966.4410  895.7970  1594.3725         24535  ...   \n",
       "3                          542.3250  584.2900  1124.9280         24535  ...   \n",
       "4                          771.4525  852.2605  1640.2540         24535  ...   \n",
       "\n",
       "   hi_flow_lanes_layout  hi_flow_lanes_stack_type  \\\n",
       "0                   1.0                       0.0   \n",
       "1                   1.0                       0.0   \n",
       "2                   1.0                       0.0   \n",
       "3                   1.0                       0.0   \n",
       "4                   1.0                       0.0   \n",
       "\n",
       "   hi_flow_lanes_fueling_positions_2 rv_lanes_fueling_positions_2  \\\n",
       "0                                5.0                          4.0   \n",
       "1                                5.0                          4.0   \n",
       "2                                5.0                          4.0   \n",
       "3                                5.0                          4.0   \n",
       "4                                5.0                          4.0   \n",
       "\n",
       "   hi_flow_rv_lanes_layout  hi_flow_rv_lanes_stack_type  mens_toilet_count  \\\n",
       "0                      1.0                          0.0                1.0   \n",
       "1                      1.0                          0.0                1.0   \n",
       "2                      1.0                          0.0                1.0   \n",
       "3                      1.0                          0.0                1.0   \n",
       "4                      1.0                          0.0                1.0   \n",
       "\n",
       "   mens_urinal_count  womens_toilet_count  womens_sink_count  \n",
       "0                1.0                  2.0                2.0  \n",
       "1                1.0                  2.0                2.0  \n",
       "2                1.0                  2.0                2.0  \n",
       "3                1.0                  2.0                2.0  \n",
       "4                1.0                  2.0                2.0  \n",
       "\n",
       "[5 rows x 60 columns]"
      ]
     },
     "execution_count": 94,
     "metadata": {},
     "output_type": "execute_result"
    }
   ],
   "source": [
    "df_merged.head()"
   ]
  },
  {
   "cell_type": "markdown",
   "id": "Z5M4yFUyDjhL",
   "metadata": {
    "id": "Z5M4yFUyDjhL"
   },
   "source": [
    "### Relation between customer population and income"
   ]
  },
  {
   "cell_type": "code",
   "execution_count": 95,
   "id": "BUPMir9VDjhL",
   "metadata": {
    "colab": {
     "base_uri": "https://localhost:8080/",
     "height": 1000
    },
    "id": "BUPMir9VDjhL",
    "outputId": "e97945d7-17cf-4edb-db37-016f04cd495e",
    "scrolled": false
   },
   "outputs": [
    {
     "data": {
      "image/png": "[encoded data removed]",
      "text/plain": [
       "<Figure size 432x288 with 1 Axes>"
      ]
     },
     "metadata": {
      "needs_background": "light"
     },
     "output_type": "display_data"
    },
    {
     "data": {
      "image/png": "[encoded data removed]",
      "text/plain": [
       "<Figure size 432x288 with 1 Axes>"
      ]
     },
     "metadata": {
      "needs_background": "light"
     },
     "output_type": "display_data"
    },
    {
     "data": {
      "image/png": "[encoded data removed]",
      "text/plain": [
       "<Figure size 432x288 with 1 Axes>"
      ]
     },
     "metadata": {
      "needs_background": "light"
     },
     "output_type": "display_data"
    },
    {
     "data": {
      "image/png": "[encoded data removed]",
      "text/plain": [
       "<Figure size 432x288 with 1 Axes>"
      ]
     },
     "metadata": {
      "needs_background": "light"
     },
     "output_type": "display_data"
    }
   ],
   "source": [
    "plt.scatter(df_merged['x1_mile_pop'], df_merged['x1_mile_income'])\n",
    "plt.xlabel('Population within 1-mile radius')\n",
    "plt.ylabel('Median income of 1-mile radius population')\n",
    "plt.title('Scatter Plot: 1-mile Population vs. 1-mile Income')\n",
    "plt.show()\n",
    "\n",
    "plt.scatter(df_merged['x1_2_mile_pop'], df_merged['x1_2_mile_income'])\n",
    "plt.xlabel('Population within 1/2-mile radius')\n",
    "plt.ylabel('Median income of 1/2-mile radius population')\n",
    "plt.title('Scatter Plot: 1/2-mile Population vs. 1/2-mile Income')\n",
    "plt.show()\n",
    "\n",
    "plt.scatter(df_merged['x5_min_pop'], df_merged['x5_min_inc'])\n",
    "plt.xlabel('Population within 5-minute radius')\n",
    "plt.ylabel('Median income of 5-minute radius population')\n",
    "plt.title('Scatter Plot: 5-minute Population vs. 5-minute Income')\n",
    "plt.show()\n",
    "\n",
    "plt.scatter(df_merged['x7_min_pop'], df_merged['x7_min_inc'])\n",
    "plt.xlabel('Population within 7-minute radius')\n",
    "plt.ylabel('Median income of 7-minute radius population')\n",
    "plt.title('Scatter Plot: 7-minute Population vs. 7-minute Income')\n",
    "plt.show()\n",
    "\n"
   ]
  },
  {
   "cell_type": "markdown",
   "id": "kGYD-dzfDjhL",
   "metadata": {
    "id": "kGYD-dzfDjhL"
   },
   "source": [
    "### Population in Miles vs Total Sales"
   ]
  },
  {
   "cell_type": "code",
   "execution_count": 96,
   "id": "bmchx4JJDjhL",
   "metadata": {
    "colab": {
     "base_uri": "https://localhost:8080/",
     "height": 675
    },
    "id": "bmchx4JJDjhL",
    "outputId": "92289825-f4f4-4364-c171-9d12461a819d"
   },
   "outputs": [
    {
     "data": {
      "image/png": "[encoded data removed]",
      "text/plain": [
       "<Figure size 576x576 with 1 Axes>"
      ]
     },
     "metadata": {},
     "output_type": "display_data"
    }
   ],
   "source": [
    "df_merged['total_sales'] = df_merged['daily_yoy_ndt.total_food_service'] + df_merged['daily_yoy_ndt.total_inside_sales']\n",
    "total_sales_1_mile = df_merged[df_merged['x1_mile_pop'] > 0]['total_sales'].sum()\n",
    "total_sales_2_mile = df_merged[df_merged['x1_2_mile_pop'] > 0]['total_sales'].sum()\n",
    "total_sales_5_min = df_merged[df_merged['x5_min_pop'] > 0]['total_sales'].sum()\n",
    "total_sales_7_min = df_merged[df_merged['x7_min_pop'] > 0]['total_sales'].sum()\n",
    "\n",
    "\n",
    "labels = ['1 Mile', '2 Miles', '5 Minutes', '7 Minutes']\n",
    "values = [total_sales_1_mile, total_sales_2_mile, total_sales_5_min, total_sales_7_min]\n",
    "\n",
    "plt.figure(figsize=(8, 8))\n",
    "plt.pie(values, labels=labels, autopct='%1.1f%%', startangle=140)\n",
    "plt.title('Contribution of Total Sales by Population Radius')\n",
    "plt.show()\n"
   ]
  },
  {
   "cell_type": "markdown",
   "id": "KNzy-RLMDjhM",
   "metadata": {
    "id": "KNzy-RLMDjhM"
   },
   "source": [
    "#### Distribution of Sales based on Stores that Sell  \"freal,\" \"bonfire_grill,\" \"pizza,\" and \"cinnabon\""
   ]
  },
  {
   "cell_type": "code",
   "execution_count": null,
   "id": "GZvD4LDkDjhM",
   "metadata": {
    "colab": {
     "base_uri": "https://localhost:8080/",
     "height": 521
    },
    "id": "GZvD4LDkDjhM",
    "outputId": "21f5ee96-3617-4787-da0c-70f64aed1586"
   },
   "outputs": [],
   "source": [
    "sells_items = df_merged[(df_merged['freal'] > 0) | (df_merged['bonfire_grill'] > 0) | (df_merged['pizza'] > 0) | (df_merged['cinnabon'] > 0)]\n",
    "does_not_sell_items = df_merged[(df_merged['freal'] == 0) & (df_merged['bonfire_grill'] == 0) & (df_merged['pizza'] == 0) & (df_merged['cinnabon'] == 0)]\n",
    "\n",
    "\n",
    "avg_food_service_sells_items = sells_items['daily_yoy_ndt.total_food_service'].mean()\n",
    "avg_food_service_does_not_sell_items = does_not_sell_items['daily_yoy_ndt.total_food_service'].mean()\n",
    "\n",
    "store_type_counts = [len(sells_items), len(does_not_sell_items)]\n",
    "labels = ['Sells Items', 'Does Not Sell Items']\n",
    "plt.figure(figsize=(8, 6))\n",
    "plt.pie(store_type_counts, labels=labels, autopct='%1.1f%%', startangle=140)\n",
    "plt.title('Distribution of Store Types')\n",
    "plt.show()"
   ]
  },
  {
   "cell_type": "markdown",
   "id": "2HyJXUnkDjhM",
   "metadata": {
    "id": "2HyJXUnkDjhM"
   },
   "source": [
    "We can see that 70.3% of the food sales come from stores that sell food items and 29.7% from those that do not sell food items"
   ]
  },
  {
   "cell_type": "markdown",
   "id": "odUT-rJGDjhM",
   "metadata": {
    "id": "odUT-rJGDjhM"
   },
   "source": [
    "#### Comparing Sale of Diesel and Unleaded based on Fuel Station Features"
   ]
  },
  {
   "cell_type": "code",
   "execution_count": null,
   "id": "zP3Nv4V4DjhM",
   "metadata": {
    "colab": {
     "base_uri": "https://localhost:8080/",
     "height": 1000
    },
    "id": "zP3Nv4V4DjhM",
    "outputId": "411d05ff-5d53-4b37-e481-87c7b1ee52d0"
   },
   "outputs": [],
   "source": [
    "columns_to_visualize = ['cat_scales', 'propane', 'traditional_forecourt_fueling_positions',\n",
    "                        'traditional_forecourt_layout', 'traditional_forecourt_stack_type',\n",
    "                        'hi_flow_rv_lanes_layout', 'hi_flow_rv_lanes_stack_type']\n",
    "\n",
    "for column in columns_to_visualize:\n",
    "\n",
    "    sales_by_column = df_merged.groupby(column)[['diesel', 'unleaded']].sum()\n",
    "    sales_by_column.plot(kind='bar', figsize=(10, 6))\n",
    "    plt.title(f'Sales of Diesel and Unleaded by {column}')\n",
    "    plt.xlabel(column)\n",
    "    plt.ylabel('Total Sales')\n",
    "    plt.xticks(rotation=0)\n",
    "    plt.legend(['Diesel', 'Unleaded'])\n",
    "    plt.show()"
   ]
  },
  {
   "cell_type": "markdown",
   "id": "eGTHmgenDjhM",
   "metadata": {
    "id": "eGTHmgenDjhM"
   },
   "source": [
    "#### Comparing Sale of Diesel based on Fuel Station Features"
   ]
  },
  {
   "cell_type": "code",
   "execution_count": null,
   "id": "_Gtn2SnnDjhM",
   "metadata": {
    "colab": {
     "base_uri": "https://localhost:8080/",
     "height": 901
    },
    "id": "_Gtn2SnnDjhM",
    "outputId": "0488bed6-6124-474b-c6d3-f86ff02e8660"
   },
   "outputs": [],
   "source": [
    "numerical_columns = ['hi_flow_lanes', 'hi_flow_rv_lanes', 'def',\n",
    "                     'hi_flow_lanes_fueling_positions', 'hi_flow_lanes_layout',\n",
    "                     'hi_flow_lanes_stack_type', 'diesel']\n",
    "\n",
    "subset_df = df_merged[numerical_columns]\n",
    "\n",
    "correlation_matrix = subset_df.corr()\n",
    "\n",
    "plt.figure(figsize=(10, 8))\n",
    "sns.heatmap(correlation_matrix, annot=True, cmap='coolwarm', linewidths=0.5)\n",
    "plt.title('Correlation Heatmap')\n",
    "plt.show()"
   ]
  },
  {
   "cell_type": "markdown",
   "id": "K08jAHytDjhM",
   "metadata": {
    "id": "K08jAHytDjhM"
   },
   "source": [
    "We observe that sale of diesel increases if there is an increase in the number of hi flow lanes fueling positions."
   ]
  },
  {
   "cell_type": "markdown",
   "id": "J4PSIFH1DjhM",
   "metadata": {
    "id": "J4PSIFH1DjhM"
   },
   "source": [
    "#### Comparing Sale of Unleaded based on Fuel Station Features"
   ]
  },
  {
   "cell_type": "code",
   "execution_count": 83,
   "id": "QyPyIGGoDjhM",
   "metadata": {
    "colab": {
     "base_uri": "https://localhost:8080/",
     "height": 866
    },
    "id": "QyPyIGGoDjhM",
    "outputId": "cfe6e8ad-d6b2-47e4-868d-da3bdf4bd567"
   },
   "outputs": [
    {
     "data": {
      "image/png": "[encoded data removed]",
      "text/plain": [
       "<Figure size 720x576 with 2 Axes>"
      ]
     },
     "metadata": {
      "needs_background": "light"
     },
     "output_type": "display_data"
    }
   ],
   "source": [
    "numerical_columns =  [ 'ethanol_free', 'rv_lanes', 'rv_dumps',\n",
    "                        'rv_lanes_fueling_positions', 'rv_lanes_layout',\n",
    "                        'rv_lanes_stack_type', 'unleaded']\n",
    "\n",
    "subset_df = df_merged[numerical_columns]\n",
    "\n",
    "\n",
    "correlation_matrix = subset_df.corr()\n",
    "\n",
    "\n",
    "plt.figure(figsize=(10, 8))\n",
    "sns.heatmap(correlation_matrix, annot=True, cmap='coolwarm', linewidths=0.5)\n",
    "plt.title('Correlation Heatmap')\n",
    "plt.show()"
   ]
  },
  {
   "cell_type": "markdown",
   "id": "qlVSrh3ZDjhM",
   "metadata": {
    "id": "qlVSrh3ZDjhM"
   },
   "source": [
    "As reflected in the heat map, all the predictors except  rv_dumps has a mild positive correlation where an increase in one unit of the value will lead to the increase in sale of unleaded"
   ]
  },
  {
   "cell_type": "markdown",
   "id": "7e595354",
   "metadata": {},
   "source": [
    "#### Dropping the columns not required during Modeling Phase"
   ]
  },
  {
   "cell_type": "code",
   "execution_count": 84,
   "id": "741a53e8",
   "metadata": {},
   "outputs": [],
   "source": [
    "columns_to_drop = ['x1_mile_income_bin', 'x1_2_mile_income_bin', 'x5_min_inc_bin', 'x7_min_inc_bin']\n",
    "df_merged = df_merged.drop(columns=columns_to_drop)"
   ]
  },
  {
   "cell_type": "markdown",
   "id": "bb5f1f1e",
   "metadata": {},
   "source": [
    "<a class=\"anchor\" id=\"4.FeatureEngineering\"></a>\n",
    "# 4. Feature Engineering"
   ]
  },
  {
   "cell_type": "code",
   "execution_count": 85,
   "id": "3256d05b",
   "metadata": {},
   "outputs": [],
   "source": [
    "df_merged['calendar.calendar_day_date'] = t_data.index"
   ]
  },
  {
   "cell_type": "code",
   "execution_count": 86,
   "id": "e28a0b96",
   "metadata": {},
   "outputs": [],
   "source": [
    "df_merged.set_index('calendar.calendar_day_date', inplace=True)"
   ]
  },
  {
   "cell_type": "markdown",
   "id": "6e24e7fa",
   "metadata": {},
   "source": [
    "#### 6.1 One Hot Encoding"
   ]
  },
  {
   "cell_type": "code",
   "execution_count": 87,
   "id": "2aff13d5",
   "metadata": {},
   "outputs": [],
   "source": [
    "# Identifying categorical columns\n",
    "categorical_columns = df_merged.select_dtypes(include=['object']).columns\n",
    "\n",
    "# Applying one-hot encoding to categorical columns\n",
    "encoded_df = pd.get_dummies(df_merged, columns=categorical_columns)"
   ]
  },
  {
   "cell_type": "code",
   "execution_count": 88,
   "id": "7e8ea60a",
   "metadata": {
    "scrolled": true
   },
   "outputs": [
    {
     "data": {
      "text/html": [
       "<div>\n",
       "<style scoped>\n",
       "    .dataframe tbody tr th:only-of-type {\n",
       "        vertical-align: middle;\n",
       "    }\n",
       "\n",
       "    .dataframe tbody tr th {\n",
       "        vertical-align: top;\n",
       "    }\n",
       "\n",
       "    .dataframe thead th {\n",
       "        text-align: right;\n",
       "    }\n",
       "</style>\n",
       "<table border=\"1\" class=\"dataframe\">\n",
       "  <thead>\n",
       "    <tr style=\"text-align: right;\">\n",
       "      <th></th>\n",
       "      <th>calendar.fiscal_week_id_for_year</th>\n",
       "      <th>daily_yoy_ndt.total_inside_sales</th>\n",
       "      <th>daily_yoy_ndt.total_food_service</th>\n",
       "      <th>diesel</th>\n",
       "      <th>unleaded</th>\n",
       "      <th>site_id_msba</th>\n",
       "      <th>calendar_year</th>\n",
       "      <th>calendar_month</th>\n",
       "      <th>calendar_day</th>\n",
       "      <th>open_year</th>\n",
       "      <th>...</th>\n",
       "      <th>calendar_information.holiday_Saint Valentine's Day</th>\n",
       "      <th>calendar_information.holiday_Thanksgiving Day</th>\n",
       "      <th>calendar_information.holiday_Veteran's Day</th>\n",
       "      <th>calendar_information.holiday_Washington's Birthday</th>\n",
       "      <th>calendar_information.type_of_day_WEEKDAY</th>\n",
       "      <th>calendar_information.type_of_day_WEEKEND</th>\n",
       "      <th>season_Fall</th>\n",
       "      <th>season_Spring</th>\n",
       "      <th>season_Summer</th>\n",
       "      <th>season_Winter</th>\n",
       "    </tr>\n",
       "    <tr>\n",
       "      <th>calendar.calendar_day_date</th>\n",
       "      <th></th>\n",
       "      <th></th>\n",
       "      <th></th>\n",
       "      <th></th>\n",
       "      <th></th>\n",
       "      <th></th>\n",
       "      <th></th>\n",
       "      <th></th>\n",
       "      <th></th>\n",
       "      <th></th>\n",
       "      <th></th>\n",
       "      <th></th>\n",
       "      <th></th>\n",
       "      <th></th>\n",
       "      <th></th>\n",
       "      <th></th>\n",
       "      <th></th>\n",
       "      <th></th>\n",
       "      <th></th>\n",
       "      <th></th>\n",
       "      <th></th>\n",
       "    </tr>\n",
       "  </thead>\n",
       "  <tbody>\n",
       "    <tr>\n",
       "      <th>2022-06-17</th>\n",
       "      <td>25</td>\n",
       "      <td>2168.2920</td>\n",
       "      <td>861.6930</td>\n",
       "      <td>722.7745</td>\n",
       "      <td>1425.1020</td>\n",
       "      <td>24535</td>\n",
       "      <td>2022</td>\n",
       "      <td>6</td>\n",
       "      <td>17</td>\n",
       "      <td>2022.0</td>\n",
       "      <td>...</td>\n",
       "      <td>0</td>\n",
       "      <td>0</td>\n",
       "      <td>0</td>\n",
       "      <td>0</td>\n",
       "      <td>1</td>\n",
       "      <td>0</td>\n",
       "      <td>0</td>\n",
       "      <td>0</td>\n",
       "      <td>1</td>\n",
       "      <td>0</td>\n",
       "    </tr>\n",
       "    <tr>\n",
       "      <th>2022-06-22</th>\n",
       "      <td>25</td>\n",
       "      <td>2051.5635</td>\n",
       "      <td>808.0275</td>\n",
       "      <td>730.4850</td>\n",
       "      <td>1436.2740</td>\n",
       "      <td>24535</td>\n",
       "      <td>2022</td>\n",
       "      <td>6</td>\n",
       "      <td>22</td>\n",
       "      <td>2022.0</td>\n",
       "      <td>...</td>\n",
       "      <td>0</td>\n",
       "      <td>0</td>\n",
       "      <td>0</td>\n",
       "      <td>0</td>\n",
       "      <td>1</td>\n",
       "      <td>0</td>\n",
       "      <td>0</td>\n",
       "      <td>0</td>\n",
       "      <td>1</td>\n",
       "      <td>0</td>\n",
       "    </tr>\n",
       "    <tr>\n",
       "      <th>2022-06-23</th>\n",
       "      <td>25</td>\n",
       "      <td>2257.5000</td>\n",
       "      <td>966.4410</td>\n",
       "      <td>895.7970</td>\n",
       "      <td>1594.3725</td>\n",
       "      <td>24535</td>\n",
       "      <td>2022</td>\n",
       "      <td>6</td>\n",
       "      <td>23</td>\n",
       "      <td>2022.0</td>\n",
       "      <td>...</td>\n",
       "      <td>0</td>\n",
       "      <td>0</td>\n",
       "      <td>0</td>\n",
       "      <td>0</td>\n",
       "      <td>1</td>\n",
       "      <td>0</td>\n",
       "      <td>0</td>\n",
       "      <td>0</td>\n",
       "      <td>1</td>\n",
       "      <td>0</td>\n",
       "    </tr>\n",
       "    <tr>\n",
       "      <th>2022-06-26</th>\n",
       "      <td>26</td>\n",
       "      <td>1520.5925</td>\n",
       "      <td>542.3250</td>\n",
       "      <td>584.2900</td>\n",
       "      <td>1124.9280</td>\n",
       "      <td>24535</td>\n",
       "      <td>2022</td>\n",
       "      <td>6</td>\n",
       "      <td>26</td>\n",
       "      <td>2022.0</td>\n",
       "      <td>...</td>\n",
       "      <td>0</td>\n",
       "      <td>0</td>\n",
       "      <td>0</td>\n",
       "      <td>0</td>\n",
       "      <td>0</td>\n",
       "      <td>1</td>\n",
       "      <td>0</td>\n",
       "      <td>0</td>\n",
       "      <td>1</td>\n",
       "      <td>0</td>\n",
       "    </tr>\n",
       "    <tr>\n",
       "      <th>2022-06-27</th>\n",
       "      <td>26</td>\n",
       "      <td>1897.6930</td>\n",
       "      <td>771.4525</td>\n",
       "      <td>852.2605</td>\n",
       "      <td>1640.2540</td>\n",
       "      <td>24535</td>\n",
       "      <td>2022</td>\n",
       "      <td>6</td>\n",
       "      <td>27</td>\n",
       "      <td>2022.0</td>\n",
       "      <td>...</td>\n",
       "      <td>0</td>\n",
       "      <td>0</td>\n",
       "      <td>0</td>\n",
       "      <td>0</td>\n",
       "      <td>1</td>\n",
       "      <td>0</td>\n",
       "      <td>0</td>\n",
       "      <td>0</td>\n",
       "      <td>1</td>\n",
       "      <td>0</td>\n",
       "    </tr>\n",
       "  </tbody>\n",
       "</table>\n",
       "<p>5 rows × 127 columns</p>\n",
       "</div>"
      ],
      "text/plain": [
       "                            calendar.fiscal_week_id_for_year  \\\n",
       "calendar.calendar_day_date                                     \n",
       "2022-06-17                                                25   \n",
       "2022-06-22                                                25   \n",
       "2022-06-23                                                25   \n",
       "2022-06-26                                                26   \n",
       "2022-06-27                                                26   \n",
       "\n",
       "                            daily_yoy_ndt.total_inside_sales  \\\n",
       "calendar.calendar_day_date                                     \n",
       "2022-06-17                                         2168.2920   \n",
       "2022-06-22                                         2051.5635   \n",
       "2022-06-23                                         2257.5000   \n",
       "2022-06-26                                         1520.5925   \n",
       "2022-06-27                                         1897.6930   \n",
       "\n",
       "                            daily_yoy_ndt.total_food_service    diesel  \\\n",
       "calendar.calendar_day_date                                               \n",
       "2022-06-17                                          861.6930  722.7745   \n",
       "2022-06-22                                          808.0275  730.4850   \n",
       "2022-06-23                                          966.4410  895.7970   \n",
       "2022-06-26                                          542.3250  584.2900   \n",
       "2022-06-27                                          771.4525  852.2605   \n",
       "\n",
       "                             unleaded  site_id_msba  calendar_year  \\\n",
       "calendar.calendar_day_date                                           \n",
       "2022-06-17                  1425.1020         24535           2022   \n",
       "2022-06-22                  1436.2740         24535           2022   \n",
       "2022-06-23                  1594.3725         24535           2022   \n",
       "2022-06-26                  1124.9280         24535           2022   \n",
       "2022-06-27                  1640.2540         24535           2022   \n",
       "\n",
       "                            calendar_month  calendar_day  open_year  ...  \\\n",
       "calendar.calendar_day_date                                           ...   \n",
       "2022-06-17                               6            17     2022.0  ...   \n",
       "2022-06-22                               6            22     2022.0  ...   \n",
       "2022-06-23                               6            23     2022.0  ...   \n",
       "2022-06-26                               6            26     2022.0  ...   \n",
       "2022-06-27                               6            27     2022.0  ...   \n",
       "\n",
       "                            calendar_information.holiday_Saint Valentine's Day  \\\n",
       "calendar.calendar_day_date                                                       \n",
       "2022-06-17                                                                  0    \n",
       "2022-06-22                                                                  0    \n",
       "2022-06-23                                                                  0    \n",
       "2022-06-26                                                                  0    \n",
       "2022-06-27                                                                  0    \n",
       "\n",
       "                            calendar_information.holiday_Thanksgiving Day  \\\n",
       "calendar.calendar_day_date                                                  \n",
       "2022-06-17                                                              0   \n",
       "2022-06-22                                                              0   \n",
       "2022-06-23                                                              0   \n",
       "2022-06-26                                                              0   \n",
       "2022-06-27                                                              0   \n",
       "\n",
       "                            calendar_information.holiday_Veteran's Day  \\\n",
       "calendar.calendar_day_date                                               \n",
       "2022-06-17                                                           0   \n",
       "2022-06-22                                                           0   \n",
       "2022-06-23                                                           0   \n",
       "2022-06-26                                                           0   \n",
       "2022-06-27                                                           0   \n",
       "\n",
       "                            calendar_information.holiday_Washington's Birthday  \\\n",
       "calendar.calendar_day_date                                                       \n",
       "2022-06-17                                                                  0    \n",
       "2022-06-22                                                                  0    \n",
       "2022-06-23                                                                  0    \n",
       "2022-06-26                                                                  0    \n",
       "2022-06-27                                                                  0    \n",
       "\n",
       "                            calendar_information.type_of_day_WEEKDAY  \\\n",
       "calendar.calendar_day_date                                             \n",
       "2022-06-17                                                         1   \n",
       "2022-06-22                                                         1   \n",
       "2022-06-23                                                         1   \n",
       "2022-06-26                                                         0   \n",
       "2022-06-27                                                         1   \n",
       "\n",
       "                            calendar_information.type_of_day_WEEKEND  \\\n",
       "calendar.calendar_day_date                                             \n",
       "2022-06-17                                                         0   \n",
       "2022-06-22                                                         0   \n",
       "2022-06-23                                                         0   \n",
       "2022-06-26                                                         1   \n",
       "2022-06-27                                                         0   \n",
       "\n",
       "                            season_Fall  season_Spring  season_Summer  \\\n",
       "calendar.calendar_day_date                                              \n",
       "2022-06-17                            0              0              1   \n",
       "2022-06-22                            0              0              1   \n",
       "2022-06-23                            0              0              1   \n",
       "2022-06-26                            0              0              1   \n",
       "2022-06-27                            0              0              1   \n",
       "\n",
       "                            season_Winter  \n",
       "calendar.calendar_day_date                 \n",
       "2022-06-17                              0  \n",
       "2022-06-22                              0  \n",
       "2022-06-23                              0  \n",
       "2022-06-26                              0  \n",
       "2022-06-27                              0  \n",
       "\n",
       "[5 rows x 127 columns]"
      ]
     },
     "execution_count": 88,
     "metadata": {},
     "output_type": "execute_result"
    }
   ],
   "source": [
    "encoded_df.head()"
   ]
  },
  {
   "cell_type": "markdown",
   "id": "1689554f",
   "metadata": {},
   "source": [
    "'encoded_df' now contains the original columns along with one-hot encoded categorical columns"
   ]
  }
 ],
 "metadata": {
  "colab": {
   "provenance": []
  },
  "kernelspec": {
   "display_name": "Python 3",
   "language": "python",
   "name": "python3"
  },
  "language_info": {
   "codemirror_mode": {
    "name": "ipython",
    "version": 3
   },
   "file_extension": ".py",
   "mimetype": "text/x-python",
   "name": "python",
   "nbconvert_exporter": "python",
   "pygments_lexer": "ipython3",
   "version": "3.8.5"
  },
  "varInspector": {
   "cols": {
    "lenName": 16,
    "lenType": 16,
    "lenVar": 40
   },
   "kernels_config": {
    "python": {
     "delete_cmd_postfix": "",
     "delete_cmd_prefix": "del ",
     "library": "var_list.py",
     "varRefreshCmd": "print(var_dic_list())"
    },
    "r": {
     "delete_cmd_postfix": ") ",
     "delete_cmd_prefix": "rm(",
     "library": "var_list.r",
     "varRefreshCmd": "cat(var_dic_list()) "
    }
   },
   "types_to_exclude": [
    "module",
    "function",
    "builtin_function_or_method",
    "instance",
    "_Feature"
   ],
   "window_display": false
  }
 },
 "nbformat": 4,
 "nbformat_minor": 5
}
